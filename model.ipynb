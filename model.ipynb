{
 "cells": [
  {
   "cell_type": "code",
   "execution_count": 1,
   "id": "fafb4f13",
   "metadata": {},
   "outputs": [],
   "source": [
    "import warnings\n",
    "warnings.filterwarnings(\"ignore\")\n",
    "\n",
    "import numpy as np\n",
    "\n",
    "from pydataset import data\n",
    "\n",
    "from sklearn.model_selection import train_test_split\n",
    "from sklearn.tree import DecisionTreeClassifier, plot_tree\n",
    "from sklearn.metrics import classification_report\n",
    "from sklearn.metrics import confusion_matrix\n",
    "\n",
    "from sklearn.model_selection import train_test_split\n",
    "from sklearn.impute import SimpleImputer\n",
    "\n",
    "\n",
    "import matplotlib.pyplot as plt\n",
    "import seaborn as sns\n",
    "import acquire\n",
    "import prepare\n",
    "import pandas as pd"
   ]
  },
  {
   "cell_type": "markdown",
   "id": "24df4b4d",
   "metadata": {},
   "source": [
    "# Decision Tree "
   ]
  },
  {
   "cell_type": "markdown",
   "id": "5cfd5d58",
   "metadata": {},
   "source": [
    "### Using the titanic data, in your classification-exercises repository, create a notebook, model.ipynb where you will do the following:"
   ]
  },
  {
   "cell_type": "markdown",
   "id": "2b3ab638",
   "metadata": {},
   "source": [
    "What is your baseline prediction? What is your baseline accuracy? remember: your baseline prediction for a classification problem is predicting the most prevelant class in the training dataset (the mode). When you make those predictions, what is your accuracy? This is your baseline accuracy."
   ]
  },
  {
   "cell_type": "code",
   "execution_count": 2,
   "id": "5e6614d3",
   "metadata": {},
   "outputs": [
    {
     "name": "stdout",
     "output_type": "stream",
     "text": [
      "Using cached csv\n"
     ]
    },
    {
     "data": {
      "text/html": [
       "<div>\n",
       "<style scoped>\n",
       "    .dataframe tbody tr th:only-of-type {\n",
       "        vertical-align: middle;\n",
       "    }\n",
       "\n",
       "    .dataframe tbody tr th {\n",
       "        vertical-align: top;\n",
       "    }\n",
       "\n",
       "    .dataframe thead th {\n",
       "        text-align: right;\n",
       "    }\n",
       "</style>\n",
       "<table border=\"1\" class=\"dataframe\">\n",
       "  <thead>\n",
       "    <tr style=\"text-align: right;\">\n",
       "      <th></th>\n",
       "      <th>passenger_id</th>\n",
       "      <th>survived</th>\n",
       "      <th>pclass</th>\n",
       "      <th>sex</th>\n",
       "      <th>age</th>\n",
       "      <th>sibsp</th>\n",
       "      <th>parch</th>\n",
       "      <th>fare</th>\n",
       "      <th>embarked</th>\n",
       "      <th>class</th>\n",
       "      <th>deck</th>\n",
       "      <th>embark_town</th>\n",
       "      <th>alone</th>\n",
       "    </tr>\n",
       "  </thead>\n",
       "  <tbody>\n",
       "    <tr>\n",
       "      <th>0</th>\n",
       "      <td>0</td>\n",
       "      <td>0</td>\n",
       "      <td>3</td>\n",
       "      <td>male</td>\n",
       "      <td>22.0</td>\n",
       "      <td>1</td>\n",
       "      <td>0</td>\n",
       "      <td>7.2500</td>\n",
       "      <td>S</td>\n",
       "      <td>Third</td>\n",
       "      <td>NaN</td>\n",
       "      <td>Southampton</td>\n",
       "      <td>0</td>\n",
       "    </tr>\n",
       "    <tr>\n",
       "      <th>1</th>\n",
       "      <td>1</td>\n",
       "      <td>1</td>\n",
       "      <td>1</td>\n",
       "      <td>female</td>\n",
       "      <td>38.0</td>\n",
       "      <td>1</td>\n",
       "      <td>0</td>\n",
       "      <td>71.2833</td>\n",
       "      <td>C</td>\n",
       "      <td>First</td>\n",
       "      <td>C</td>\n",
       "      <td>Cherbourg</td>\n",
       "      <td>0</td>\n",
       "    </tr>\n",
       "    <tr>\n",
       "      <th>2</th>\n",
       "      <td>2</td>\n",
       "      <td>1</td>\n",
       "      <td>3</td>\n",
       "      <td>female</td>\n",
       "      <td>26.0</td>\n",
       "      <td>0</td>\n",
       "      <td>0</td>\n",
       "      <td>7.9250</td>\n",
       "      <td>S</td>\n",
       "      <td>Third</td>\n",
       "      <td>NaN</td>\n",
       "      <td>Southampton</td>\n",
       "      <td>1</td>\n",
       "    </tr>\n",
       "  </tbody>\n",
       "</table>\n",
       "</div>"
      ],
      "text/plain": [
       "   passenger_id  survived  pclass     sex   age  sibsp  parch     fare  \\\n",
       "0             0         0       3    male  22.0      1      0   7.2500   \n",
       "1             1         1       1  female  38.0      1      0  71.2833   \n",
       "2             2         1       3  female  26.0      0      0   7.9250   \n",
       "\n",
       "  embarked  class deck  embark_town  alone  \n",
       "0        S  Third  NaN  Southampton      0  \n",
       "1        C  First    C    Cherbourg      0  \n",
       "2        S  Third  NaN  Southampton      1  "
      ]
     },
     "execution_count": 2,
     "metadata": {},
     "output_type": "execute_result"
    }
   ],
   "source": [
    "#Acquire Data \n",
    "df = acquire.get_titanic_data()\n",
    "df.head(3)"
   ]
  },
  {
   "cell_type": "code",
   "execution_count": 3,
   "id": "4855887d",
   "metadata": {},
   "outputs": [],
   "source": [
    "#Prepare Data\n",
    "titanic_df = prepare.prep_titanic_data(df)"
   ]
  },
  {
   "cell_type": "code",
   "execution_count": 4,
   "id": "ec9e383a",
   "metadata": {},
   "outputs": [],
   "source": [
    "train, validate, test = titanic_df"
   ]
  },
  {
   "cell_type": "code",
   "execution_count": 5,
   "id": "e89d4bf4",
   "metadata": {},
   "outputs": [
    {
     "data": {
      "text/html": [
       "<div>\n",
       "<style scoped>\n",
       "    .dataframe tbody tr th:only-of-type {\n",
       "        vertical-align: middle;\n",
       "    }\n",
       "\n",
       "    .dataframe tbody tr th {\n",
       "        vertical-align: top;\n",
       "    }\n",
       "\n",
       "    .dataframe thead th {\n",
       "        text-align: right;\n",
       "    }\n",
       "</style>\n",
       "<table border=\"1\" class=\"dataframe\">\n",
       "  <thead>\n",
       "    <tr style=\"text-align: right;\">\n",
       "      <th></th>\n",
       "      <th>passenger_id</th>\n",
       "      <th>survived</th>\n",
       "      <th>pclass</th>\n",
       "      <th>sex</th>\n",
       "      <th>age</th>\n",
       "      <th>sibsp</th>\n",
       "      <th>parch</th>\n",
       "      <th>fare</th>\n",
       "      <th>embark_town</th>\n",
       "      <th>alone</th>\n",
       "      <th>sex_male</th>\n",
       "      <th>embark_town_Queenstown</th>\n",
       "      <th>embark_town_Southampton</th>\n",
       "    </tr>\n",
       "  </thead>\n",
       "  <tbody>\n",
       "    <tr>\n",
       "      <th>583</th>\n",
       "      <td>583</td>\n",
       "      <td>0</td>\n",
       "      <td>1</td>\n",
       "      <td>male</td>\n",
       "      <td>36.0</td>\n",
       "      <td>0</td>\n",
       "      <td>0</td>\n",
       "      <td>40.1250</td>\n",
       "      <td>Cherbourg</td>\n",
       "      <td>1</td>\n",
       "      <td>1</td>\n",
       "      <td>0</td>\n",
       "      <td>0</td>\n",
       "    </tr>\n",
       "    <tr>\n",
       "      <th>165</th>\n",
       "      <td>165</td>\n",
       "      <td>1</td>\n",
       "      <td>3</td>\n",
       "      <td>male</td>\n",
       "      <td>9.0</td>\n",
       "      <td>0</td>\n",
       "      <td>2</td>\n",
       "      <td>20.5250</td>\n",
       "      <td>Southampton</td>\n",
       "      <td>0</td>\n",
       "      <td>1</td>\n",
       "      <td>0</td>\n",
       "      <td>1</td>\n",
       "    </tr>\n",
       "    <tr>\n",
       "      <th>50</th>\n",
       "      <td>50</td>\n",
       "      <td>0</td>\n",
       "      <td>3</td>\n",
       "      <td>male</td>\n",
       "      <td>7.0</td>\n",
       "      <td>4</td>\n",
       "      <td>1</td>\n",
       "      <td>39.6875</td>\n",
       "      <td>Southampton</td>\n",
       "      <td>0</td>\n",
       "      <td>1</td>\n",
       "      <td>0</td>\n",
       "      <td>1</td>\n",
       "    </tr>\n",
       "  </tbody>\n",
       "</table>\n",
       "</div>"
      ],
      "text/plain": [
       "     passenger_id  survived  pclass   sex   age  sibsp  parch     fare  \\\n",
       "583           583         0       1  male  36.0      0      0  40.1250   \n",
       "165           165         1       3  male   9.0      0      2  20.5250   \n",
       "50             50         0       3  male   7.0      4      1  39.6875   \n",
       "\n",
       "     embark_town  alone  sex_male  embark_town_Queenstown  \\\n",
       "583    Cherbourg      1         1                       0   \n",
       "165  Southampton      0         1                       0   \n",
       "50   Southampton      0         1                       0   \n",
       "\n",
       "     embark_town_Southampton  \n",
       "583                        0  \n",
       "165                        1  \n",
       "50                         1  "
      ]
     },
     "execution_count": 5,
     "metadata": {},
     "output_type": "execute_result"
    }
   ],
   "source": [
    "train.head(3)"
   ]
  },
  {
   "cell_type": "code",
   "execution_count": 6,
   "id": "84e46502",
   "metadata": {},
   "outputs": [],
   "source": [
    "cols_to_drop = ['sex', 'embark_town']\n",
    "train = train.drop(columns=cols_to_drop)"
   ]
  },
  {
   "cell_type": "code",
   "execution_count": 7,
   "id": "a5b48331",
   "metadata": {},
   "outputs": [],
   "source": [
    "\n",
    "cols_to_drop = ['sex', 'embark_town']\n",
    "validate = validate.drop(columns=cols_to_drop)"
   ]
  },
  {
   "cell_type": "code",
   "execution_count": 8,
   "id": "344ba9ac",
   "metadata": {},
   "outputs": [],
   "source": [
    "cols_to_drop = ['sex', 'embark_town']\n",
    "test = test.drop(columns=cols_to_drop)"
   ]
  },
  {
   "cell_type": "code",
   "execution_count": 9,
   "id": "e011ec46",
   "metadata": {},
   "outputs": [
    {
     "data": {
      "text/plain": [
       "0    307\n",
       "1    191\n",
       "Name: survived, dtype: int64"
      ]
     },
     "execution_count": 9,
     "metadata": {},
     "output_type": "execute_result"
    }
   ],
   "source": [
    "#Approximately 61 percent of people did not survive on the Titanic\n",
    "#This will be my baseline mode\n",
    "train.survived.value_counts()"
   ]
  },
  {
   "cell_type": "markdown",
   "id": "05fa98cc",
   "metadata": {},
   "source": [
    "2. Fit the decision tree classifier to your training sample and transform (i.e. make predictions on the training sample)"
   ]
  },
  {
   "cell_type": "code",
   "execution_count": 10,
   "id": "0290df8b",
   "metadata": {},
   "outputs": [],
   "source": [
    "X_train = train.drop(columns=['survived'])\n",
    "y_train = train.survived \n",
    "\n",
    "X_validate = validate.drop(columns=['survived'])\n",
    "y_validate = validate.survived\n",
    "\n",
    "X_test = test.drop(columns=['survived'])\n",
    "y_test = test.survived"
   ]
  },
  {
   "cell_type": "code",
   "execution_count": 11,
   "id": "090d49d9",
   "metadata": {},
   "outputs": [],
   "source": [
    "#Train Model: Create the Object \n",
    "#Create the decision tree object with desired hyper-parameters \n",
    "clf = DecisionTreeClassifier(max_depth=3, random_state=123)"
   ]
  },
  {
   "cell_type": "code",
   "execution_count": 12,
   "id": "e059687b",
   "metadata": {},
   "outputs": [],
   "source": [
    "#Fit the Model \n",
    "#Fit the random forest algorithm to the traning data \n",
    "clf = clf.fit(X_train, y_train)"
   ]
  },
  {
   "cell_type": "code",
   "execution_count": 13,
   "id": "9ef88d41",
   "metadata": {},
   "outputs": [
    {
     "data": {
      "text/plain": [
       "[Text(418.5, 428.08500000000004, 'sex_male <= 0.5\\ngini = 0.473\\nsamples = 498\\nvalue = [307, 191]\\nclass = 0'),\n",
       " Text(209.25, 305.775, 'pclass <= 2.5\\ngini = 0.365\\nsamples = 175\\nvalue = [42, 133]\\nclass = 1'),\n",
       " Text(104.625, 183.46500000000003, 'age <= 3.0\\ngini = 0.081\\nsamples = 94\\nvalue = [4, 90]\\nclass = 1'),\n",
       " Text(52.3125, 61.15499999999997, 'gini = 0.0\\nsamples = 1\\nvalue = [1, 0]\\nclass = 0'),\n",
       " Text(156.9375, 61.15499999999997, 'gini = 0.062\\nsamples = 93\\nvalue = [3, 90]\\nclass = 1'),\n",
       " Text(313.875, 183.46500000000003, 'fare <= 23.912\\ngini = 0.498\\nsamples = 81\\nvalue = [38, 43]\\nclass = 1'),\n",
       " Text(261.5625, 61.15499999999997, 'gini = 0.476\\nsamples = 69\\nvalue = [27, 42]\\nclass = 1'),\n",
       " Text(366.1875, 61.15499999999997, 'gini = 0.153\\nsamples = 12\\nvalue = [11, 1]\\nclass = 0'),\n",
       " Text(627.75, 305.775, 'fare <= 18.275\\ngini = 0.295\\nsamples = 323\\nvalue = [265, 58]\\nclass = 0'),\n",
       " Text(523.125, 183.46500000000003, 'age <= 7.835\\ngini = 0.184\\nsamples = 205\\nvalue = [184, 21]\\nclass = 0'),\n",
       " Text(470.8125, 61.15499999999997, 'gini = 0.0\\nsamples = 2\\nvalue = [0, 2]\\nclass = 1'),\n",
       " Text(575.4375, 61.15499999999997, 'gini = 0.17\\nsamples = 203\\nvalue = [184, 19]\\nclass = 0'),\n",
       " Text(732.375, 183.46500000000003, 'passenger_id <= 164.5\\ngini = 0.43\\nsamples = 118\\nvalue = [81, 37]\\nclass = 0'),\n",
       " Text(680.0625, 61.15499999999997, 'gini = 0.191\\nsamples = 28\\nvalue = [25, 3]\\nclass = 0'),\n",
       " Text(784.6875, 61.15499999999997, 'gini = 0.47\\nsamples = 90\\nvalue = [56, 34]\\nclass = 0')]"
      ]
     },
     "execution_count": 13,
     "metadata": {},
     "output_type": "execute_result"
    },
    {
     "data": {
      "image/png": "[encoded data removed]",
      "text/plain": [
       "<Figure size 1080x648 with 1 Axes>"
      ]
     },
     "metadata": {
      "needs_background": "light"
     },
     "output_type": "display_data"
    }
   ],
   "source": [
    "#Visualize a Decision Tree \n",
    "plt.figure(figsize=(15, 9))\n",
    "plot_tree(clf, feature_names=X_train.columns, class_names=clf.classes_.astype(str), rounded=True)"
   ]
  },
  {
   "cell_type": "code",
   "execution_count": 14,
   "id": "1f360211",
   "metadata": {},
   "outputs": [
    {
     "data": {
      "text/plain": [
       "array([0, 0, 0, 1, 1])"
      ]
     },
     "execution_count": 14,
     "metadata": {},
     "output_type": "execute_result"
    }
   ],
   "source": [
    "#make a prediction on train observations \n",
    "y_pred = clf.predict(X_train)\n",
    "y_pred[0:5]"
   ]
  },
  {
   "cell_type": "code",
   "execution_count": 15,
   "id": "4cb6d24e",
   "metadata": {},
   "outputs": [
    {
     "data": {
      "text/plain": [
       "array([[0.62222222, 0.37777778],\n",
       "       [0.62222222, 0.37777778],\n",
       "       [0.89285714, 0.10714286],\n",
       "       [0.03225806, 0.96774194],\n",
       "       [0.03225806, 0.96774194]])"
      ]
     },
     "execution_count": 15,
     "metadata": {},
     "output_type": "execute_result"
    }
   ],
   "source": [
    "#estimate the probability \n",
    "y_pred_proba = clf.predict_proba(X_train)\n",
    "y_pred_proba[0:5]"
   ]
  },
  {
   "cell_type": "markdown",
   "id": "c6320080",
   "metadata": {},
   "source": [
    "3. Evaluate your in-sample results using the model score, confusion matrix, and classification report."
   ]
  },
  {
   "cell_type": "code",
   "execution_count": 16,
   "id": "327b9144",
   "metadata": {},
   "outputs": [
    {
     "name": "stdout",
     "output_type": "stream",
     "text": [
      "Accuracy of Decision Tree classifier on training set: 0.83\n"
     ]
    }
   ],
   "source": [
    "#model score \n",
    "print('Accuracy of Decision Tree classifier on training set: {:.2f}'\n",
    "      .format(clf.score(X_train, y_train)))"
   ]
  },
  {
   "cell_type": "code",
   "execution_count": 17,
   "id": "a40aecb4",
   "metadata": {},
   "outputs": [
    {
     "data": {
      "text/plain": [
       "array([[277,  30],\n",
       "       [ 57, 134]])"
      ]
     },
     "execution_count": 17,
     "metadata": {},
     "output_type": "execute_result"
    }
   ],
   "source": [
    "#confusion matrix\n",
    "confusion_matrix(y_train, y_pred)"
   ]
  },
  {
   "cell_type": "code",
   "execution_count": 18,
   "id": "34c9868b",
   "metadata": {},
   "outputs": [
    {
     "data": {
      "text/plain": [
       "0    307\n",
       "1    191\n",
       "Name: survived, dtype: int64"
      ]
     },
     "execution_count": 18,
     "metadata": {},
     "output_type": "execute_result"
    }
   ],
   "source": [
    "#confusion matrix value counts?\n",
    "y_train.value_counts()"
   ]
  },
  {
   "cell_type": "code",
   "execution_count": 19,
   "id": "1499dcb5",
   "metadata": {},
   "outputs": [
    {
     "data": {
      "text/html": [
       "<div>\n",
       "<style scoped>\n",
       "    .dataframe tbody tr th:only-of-type {\n",
       "        vertical-align: middle;\n",
       "    }\n",
       "\n",
       "    .dataframe tbody tr th {\n",
       "        vertical-align: top;\n",
       "    }\n",
       "\n",
       "    .dataframe thead th {\n",
       "        text-align: right;\n",
       "    }\n",
       "</style>\n",
       "<table border=\"1\" class=\"dataframe\">\n",
       "  <thead>\n",
       "    <tr style=\"text-align: right;\">\n",
       "      <th></th>\n",
       "      <th>0</th>\n",
       "      <th>1</th>\n",
       "    </tr>\n",
       "  </thead>\n",
       "  <tbody>\n",
       "    <tr>\n",
       "      <th>0</th>\n",
       "      <td>277</td>\n",
       "      <td>30</td>\n",
       "    </tr>\n",
       "    <tr>\n",
       "      <th>1</th>\n",
       "      <td>57</td>\n",
       "      <td>134</td>\n",
       "    </tr>\n",
       "  </tbody>\n",
       "</table>\n",
       "</div>"
      ],
      "text/plain": [
       "     0    1\n",
       "0  277   30\n",
       "1   57  134"
      ]
     },
     "execution_count": 19,
     "metadata": {},
     "output_type": "execute_result"
    }
   ],
   "source": [
    "#confusion matrix more easily read? \n",
    "labels = sorted(y_train.unique())\n",
    "\n",
    "pd.DataFrame(confusion_matrix(y_train, y_pred), index=labels, columns=labels)"
   ]
  },
  {
   "cell_type": "code",
   "execution_count": 20,
   "id": "97bb6412",
   "metadata": {},
   "outputs": [
    {
     "name": "stdout",
     "output_type": "stream",
     "text": [
      "              precision    recall  f1-score   support\n",
      "\n",
      "           0       0.83      0.90      0.86       307\n",
      "           1       0.82      0.70      0.75       191\n",
      "\n",
      "    accuracy                           0.83       498\n",
      "   macro avg       0.82      0.80      0.81       498\n",
      "weighted avg       0.82      0.83      0.82       498\n",
      "\n"
     ]
    }
   ],
   "source": [
    "#classification report\n",
    "#0 are the people who passed away \n",
    "#1 are the people who survived \n",
    "print(classification_report(y_train, y_pred))"
   ]
  },
  {
   "cell_type": "code",
   "execution_count": 22,
   "id": "d61173e0",
   "metadata": {},
   "outputs": [
    {
     "name": "stdout",
     "output_type": "stream",
     "text": [
      "Accuracy of random forest classifier on test set: 0.80\n"
     ]
    }
   ],
   "source": [
    "#Validate Score \n",
    "print('Accuracy of random forest classifier on test set: {:.2f}'\n",
    "     .format(clf.score(X_validate, y_validate)))"
   ]
  },
  {
   "cell_type": "markdown",
   "id": "edcae2ec",
   "metadata": {},
   "source": [
    "4. Compute: Accuracy, true positive rate, false positive rate, true negative rate, false negative rate, precision, recall, f1-score, and support."
   ]
  },
  {
   "cell_type": "markdown",
   "id": "48d35e99",
   "metadata": {},
   "source": [
    "Metrics: \n",
    "- Accuracy: 0.80\n",
    "- True Positive Rate: 277/498\n",
    "- False positive Rate: 30/498\n",
    "- True negative Rate: 134/498\n",
    "- False negative Rate: 57/498\n",
    "- Precision: {0: 0.83, 1:0.82}\n",
    "- Recall {0:0.90, 1:0.70}\n",
    "- F1 Score {0: 0.86, 1:0.75}\n",
    "- support {0: 307, 1: 191}"
   ]
  },
  {
   "cell_type": "markdown",
   "id": "56ffc385",
   "metadata": {},
   "source": [
    "# Lather Rinse Repeat"
   ]
  },
  {
   "cell_type": "markdown",
   "id": "de595de4",
   "metadata": {},
   "source": [
    "Using the titanic dataset again, we will change the max depth to compare results"
   ]
  },
  {
   "cell_type": "code",
   "execution_count": 173,
   "id": "884e19c7",
   "metadata": {},
   "outputs": [],
   "source": [
    "clf = DecisionTreeClassifier(max_depth=5, random_state=123)"
   ]
  },
  {
   "cell_type": "code",
   "execution_count": 174,
   "id": "ca657b31",
   "metadata": {},
   "outputs": [],
   "source": [
    "clf = clf.fit(X_train, y_train)"
   ]
  },
  {
   "cell_type": "code",
   "execution_count": 175,
   "id": "27c93bca",
   "metadata": {},
   "outputs": [
    {
     "data": {
      "text/plain": [
       "[Text(350.8014705882353, 448.47, 'sex_male <= 0.5\\ngini = 0.473\\nsamples = 498\\nvalue = [307, 191]\\nclass = 0'),\n",
       " Text(153.86029411764704, 366.93, 'pclass <= 2.5\\ngini = 0.365\\nsamples = 175\\nvalue = [42, 133]\\nclass = 1'),\n",
       " Text(49.23529411764706, 285.39, 'age <= 3.0\\ngini = 0.081\\nsamples = 94\\nvalue = [4, 90]\\nclass = 1'),\n",
       " Text(24.61764705882353, 203.84999999999997, 'gini = 0.0\\nsamples = 1\\nvalue = [1, 0]\\nclass = 0'),\n",
       " Text(73.85294117647058, 203.84999999999997, 'passenger_id <= 205.0\\ngini = 0.062\\nsamples = 93\\nvalue = [3, 90]\\nclass = 1'),\n",
       " Text(49.23529411764706, 122.31, 'passenger_id <= 197.0\\ngini = 0.305\\nsamples = 16\\nvalue = [3, 13]\\nclass = 1'),\n",
       " Text(24.61764705882353, 40.76999999999998, 'gini = 0.231\\nsamples = 15\\nvalue = [2, 13]\\nclass = 1'),\n",
       " Text(73.85294117647058, 40.76999999999998, 'gini = 0.0\\nsamples = 1\\nvalue = [1, 0]\\nclass = 0'),\n",
       " Text(98.47058823529412, 122.31, 'gini = 0.0\\nsamples = 77\\nvalue = [0, 77]\\nclass = 1'),\n",
       " Text(258.4852941176471, 285.39, 'fare <= 23.912\\ngini = 0.498\\nsamples = 81\\nvalue = [38, 43]\\nclass = 1'),\n",
       " Text(196.94117647058823, 203.84999999999997, 'age <= 35.0\\ngini = 0.476\\nsamples = 69\\nvalue = [27, 42]\\nclass = 1'),\n",
       " Text(147.70588235294116, 122.31, 'passenger_id <= 485.0\\ngini = 0.455\\nsamples = 63\\nvalue = [22, 41]\\nclass = 1'),\n",
       " Text(123.08823529411765, 40.76999999999998, 'gini = 0.339\\nsamples = 37\\nvalue = [8, 29]\\nclass = 1'),\n",
       " Text(172.3235294117647, 40.76999999999998, 'gini = 0.497\\nsamples = 26\\nvalue = [14, 12]\\nclass = 0'),\n",
       " Text(246.1764705882353, 122.31, 'age <= 55.0\\ngini = 0.278\\nsamples = 6\\nvalue = [5, 1]\\nclass = 0'),\n",
       " Text(221.55882352941177, 40.76999999999998, 'gini = 0.0\\nsamples = 5\\nvalue = [5, 0]\\nclass = 0'),\n",
       " Text(270.79411764705884, 40.76999999999998, 'gini = 0.0\\nsamples = 1\\nvalue = [0, 1]\\nclass = 1'),\n",
       " Text(320.02941176470586, 203.84999999999997, 'passenger_id <= 48.0\\ngini = 0.153\\nsamples = 12\\nvalue = [11, 1]\\nclass = 0'),\n",
       " Text(295.4117647058823, 122.31, 'gini = 0.0\\nsamples = 1\\nvalue = [0, 1]\\nclass = 1'),\n",
       " Text(344.6470588235294, 122.31, 'gini = 0.0\\nsamples = 11\\nvalue = [11, 0]\\nclass = 0'),\n",
       " Text(547.7426470588235, 366.93, 'fare <= 18.275\\ngini = 0.295\\nsamples = 323\\nvalue = [265, 58]\\nclass = 0'),\n",
       " Text(418.5, 285.39, 'age <= 7.835\\ngini = 0.184\\nsamples = 205\\nvalue = [184, 21]\\nclass = 0'),\n",
       " Text(393.88235294117646, 203.84999999999997, 'gini = 0.0\\nsamples = 2\\nvalue = [0, 2]\\nclass = 1'),\n",
       " Text(443.11764705882354, 203.84999999999997, 'passenger_id <= 36.5\\ngini = 0.17\\nsamples = 203\\nvalue = [184, 19]\\nclass = 0'),\n",
       " Text(393.88235294117646, 122.31, 'fare <= 11.75\\ngini = 0.48\\nsamples = 5\\nvalue = [2, 3]\\nclass = 1'),\n",
       " Text(369.2647058823529, 40.76999999999998, 'gini = 0.444\\nsamples = 3\\nvalue = [2, 1]\\nclass = 0'),\n",
       " Text(418.5, 40.76999999999998, 'gini = 0.0\\nsamples = 2\\nvalue = [0, 2]\\nclass = 1'),\n",
       " Text(492.3529411764706, 122.31, 'passenger_id <= 224.5\\ngini = 0.149\\nsamples = 198\\nvalue = [182, 16]\\nclass = 0'),\n",
       " Text(467.7352941176471, 40.76999999999998, 'gini = 0.0\\nsamples = 43\\nvalue = [43, 0]\\nclass = 0'),\n",
       " Text(516.9705882352941, 40.76999999999998, 'gini = 0.185\\nsamples = 155\\nvalue = [139, 16]\\nclass = 0'),\n",
       " Text(676.9852941176471, 285.39, 'passenger_id <= 164.5\\ngini = 0.43\\nsamples = 118\\nvalue = [81, 37]\\nclass = 0'),\n",
       " Text(615.4411764705882, 203.84999999999997, 'pclass <= 1.5\\ngini = 0.191\\nsamples = 28\\nvalue = [25, 3]\\nclass = 0'),\n",
       " Text(590.8235294117646, 122.31, 'passenger_id <= 58.5\\ngini = 0.355\\nsamples = 13\\nvalue = [10, 3]\\nclass = 0'),\n",
       " Text(566.2058823529412, 40.76999999999998, 'gini = 0.444\\nsamples = 3\\nvalue = [1, 2]\\nclass = 1'),\n",
       " Text(615.4411764705882, 40.76999999999998, 'gini = 0.18\\nsamples = 10\\nvalue = [9, 1]\\nclass = 0'),\n",
       " Text(640.0588235294117, 122.31, 'gini = 0.0\\nsamples = 15\\nvalue = [15, 0]\\nclass = 0'),\n",
       " Text(738.5294117647059, 203.84999999999997, 'age <= 5.5\\ngini = 0.47\\nsamples = 90\\nvalue = [56, 34]\\nclass = 0'),\n",
       " Text(689.2941176470588, 122.31, 'fare <= 39.344\\ngini = 0.245\\nsamples = 7\\nvalue = [1, 6]\\nclass = 1'),\n",
       " Text(664.6764705882352, 40.76999999999998, 'gini = 0.0\\nsamples = 6\\nvalue = [0, 6]\\nclass = 1'),\n",
       " Text(713.9117647058823, 40.76999999999998, 'gini = 0.0\\nsamples = 1\\nvalue = [1, 0]\\nclass = 0'),\n",
       " Text(787.7647058823529, 122.31, 'age <= 53.0\\ngini = 0.447\\nsamples = 83\\nvalue = [55, 28]\\nclass = 0'),\n",
       " Text(763.1470588235294, 40.76999999999998, 'gini = 0.474\\nsamples = 70\\nvalue = [43, 27]\\nclass = 0'),\n",
       " Text(812.3823529411765, 40.76999999999998, 'gini = 0.142\\nsamples = 13\\nvalue = [12, 1]\\nclass = 0')]"
      ]
     },
     "execution_count": 175,
     "metadata": {},
     "output_type": "execute_result"
    },
    {
     "data": {
      "image/png": "[encoded data removed]",
      "text/plain": [
       "<Figure size 1080x648 with 1 Axes>"
      ]
     },
     "metadata": {
      "needs_background": "light"
     },
     "output_type": "display_data"
    }
   ],
   "source": [
    "plt.figure(figsize=(15, 9))\n",
    "plot_tree(clf, feature_names=X_train.columns, class_names=clf.classes_.astype(str), rounded=True)"
   ]
  },
  {
   "cell_type": "code",
   "execution_count": 176,
   "id": "c3d5346d",
   "metadata": {},
   "outputs": [
    {
     "data": {
      "text/plain": [
       "array([0, 0, 0, 1, 1])"
      ]
     },
     "execution_count": 176,
     "metadata": {},
     "output_type": "execute_result"
    }
   ],
   "source": [
    "y_pred = clf.predict(X_train)\n",
    "y_pred[0:5]"
   ]
  },
  {
   "cell_type": "code",
   "execution_count": 177,
   "id": "a0e55a27",
   "metadata": {},
   "outputs": [
    {
     "data": {
      "text/plain": [
       "array([[0.61428571, 0.38571429],\n",
       "       [0.61428571, 0.38571429],\n",
       "       [1.        , 0.        ],\n",
       "       [0.        , 1.        ],\n",
       "       [0.        , 1.        ]])"
      ]
     },
     "execution_count": 177,
     "metadata": {},
     "output_type": "execute_result"
    }
   ],
   "source": [
    "y_pred_proba = clf.predict_proba(X_train)\n",
    "y_pred_proba[0:5]"
   ]
  },
  {
   "cell_type": "code",
   "execution_count": 178,
   "id": "0848b8ea",
   "metadata": {},
   "outputs": [
    {
     "name": "stdout",
     "output_type": "stream",
     "text": [
      "Accuracy of Decision Tree classifier on training set: 0.86\n"
     ]
    }
   ],
   "source": [
    "print('Accuracy of Decision Tree classifier on training set: {:.2f}'\n",
    "      .format(clf.score(X_train, y_train)))"
   ]
  },
  {
   "cell_type": "code",
   "execution_count": 179,
   "id": "875fd088",
   "metadata": {},
   "outputs": [
    {
     "data": {
      "text/plain": [
       "array([[296,  11],\n",
       "       [ 58, 133]])"
      ]
     },
     "execution_count": 179,
     "metadata": {},
     "output_type": "execute_result"
    }
   ],
   "source": [
    "confusion_matrix(y_train, y_pred)"
   ]
  },
  {
   "cell_type": "code",
   "execution_count": 180,
   "id": "8ef4fd88",
   "metadata": {},
   "outputs": [
    {
     "data": {
      "text/plain": [
       "0    307\n",
       "1    191\n",
       "Name: survived, dtype: int64"
      ]
     },
     "execution_count": 180,
     "metadata": {},
     "output_type": "execute_result"
    }
   ],
   "source": [
    "y_train.value_counts()"
   ]
  },
  {
   "cell_type": "code",
   "execution_count": 181,
   "id": "9cc6eb61",
   "metadata": {},
   "outputs": [
    {
     "data": {
      "text/html": [
       "<div>\n",
       "<style scoped>\n",
       "    .dataframe tbody tr th:only-of-type {\n",
       "        vertical-align: middle;\n",
       "    }\n",
       "\n",
       "    .dataframe tbody tr th {\n",
       "        vertical-align: top;\n",
       "    }\n",
       "\n",
       "    .dataframe thead th {\n",
       "        text-align: right;\n",
       "    }\n",
       "</style>\n",
       "<table border=\"1\" class=\"dataframe\">\n",
       "  <thead>\n",
       "    <tr style=\"text-align: right;\">\n",
       "      <th></th>\n",
       "      <th>0</th>\n",
       "      <th>1</th>\n",
       "    </tr>\n",
       "  </thead>\n",
       "  <tbody>\n",
       "    <tr>\n",
       "      <th>0</th>\n",
       "      <td>296</td>\n",
       "      <td>11</td>\n",
       "    </tr>\n",
       "    <tr>\n",
       "      <th>1</th>\n",
       "      <td>58</td>\n",
       "      <td>133</td>\n",
       "    </tr>\n",
       "  </tbody>\n",
       "</table>\n",
       "</div>"
      ],
      "text/plain": [
       "     0    1\n",
       "0  296   11\n",
       "1   58  133"
      ]
     },
     "execution_count": 181,
     "metadata": {},
     "output_type": "execute_result"
    }
   ],
   "source": [
    "labels = sorted(y_train.unique())\n",
    "\n",
    "pd.DataFrame(confusion_matrix(y_train, y_pred), index=labels, columns=labels)"
   ]
  },
  {
   "cell_type": "code",
   "execution_count": 182,
   "id": "0f2b3d22",
   "metadata": {},
   "outputs": [
    {
     "name": "stdout",
     "output_type": "stream",
     "text": [
      "              precision    recall  f1-score   support\n",
      "\n",
      "           0       0.84      0.96      0.90       307\n",
      "           1       0.92      0.70      0.79       191\n",
      "\n",
      "    accuracy                           0.86       498\n",
      "   macro avg       0.88      0.83      0.84       498\n",
      "weighted avg       0.87      0.86      0.86       498\n",
      "\n"
     ]
    }
   ],
   "source": [
    "print(classification_report(y_train, y_pred))"
   ]
  },
  {
   "cell_type": "code",
   "execution_count": 183,
   "id": "321f898f",
   "metadata": {},
   "outputs": [
    {
     "name": "stdout",
     "output_type": "stream",
     "text": [
      "Accuracy of random forest classifier on test set: 0.77\n"
     ]
    }
   ],
   "source": [
    "print('Accuracy of random forest classifier on test set: {:.2f}'\n",
    "     .format(clf.score(X_validate, y_validate)))"
   ]
  },
  {
   "cell_type": "markdown",
   "id": "df0b924e",
   "metadata": {},
   "source": [
    "4. Compute: Accuracy, true positive rate, false positive rate, true negative rate, false negative rate, precision, recall, f1-score, and support."
   ]
  },
  {
   "cell_type": "markdown",
   "id": "e3838807",
   "metadata": {},
   "source": [
    "Metrics: \n",
    "- Accuracy: 0.77\n",
    "- True Positive Rate: 296/498 \n",
    "- False Positive Rate: 11/498\n",
    "- True Negative Rate: 133/498\n",
    "- False Negative Rate: 58/498 \n",
    "- Precision: {0: 0.84, 1: 0.92} \n",
    "- Recall {0: 0.96, 1: 0.70} \n",
    "- f1-score {0: 0.90, 1: 0.79} \n",
    "- support {0: 307, 1: 191}"
   ]
  },
  {
   "cell_type": "markdown",
   "id": "5f50b3fb",
   "metadata": {},
   "source": [
    "Which Model performs better on your in-sample data?"
   ]
  },
  {
   "cell_type": "markdown",
   "id": "c1cb9525",
   "metadata": {},
   "source": [
    "The model with the higher depth, max_depth 5, performed better on the training data having an overall accuracy of 0.86."
   ]
  },
  {
   "cell_type": "markdown",
   "id": "8e1175ce",
   "metadata": {},
   "source": [
    "Which model performs best on your out-of-sample data, the validate set?"
   ]
  },
  {
   "cell_type": "markdown",
   "id": "388912c8",
   "metadata": {},
   "source": [
    "The model with the lower depth, max_depth 3, performed better on the out-of-sample data having an overall accuracy of 0.80"
   ]
  },
  {
   "cell_type": "markdown",
   "id": "4c62cad9",
   "metadata": {},
   "source": [
    "# Telco Data"
   ]
  },
  {
   "cell_type": "code",
   "execution_count": 33,
   "id": "8db17eb1",
   "metadata": {},
   "outputs": [
    {
     "name": "stdout",
     "output_type": "stream",
     "text": [
      "Using cached csv\n"
     ]
    },
    {
     "data": {
      "text/html": [
       "<div>\n",
       "<style scoped>\n",
       "    .dataframe tbody tr th:only-of-type {\n",
       "        vertical-align: middle;\n",
       "    }\n",
       "\n",
       "    .dataframe tbody tr th {\n",
       "        vertical-align: top;\n",
       "    }\n",
       "\n",
       "    .dataframe thead th {\n",
       "        text-align: right;\n",
       "    }\n",
       "</style>\n",
       "<table border=\"1\" class=\"dataframe\">\n",
       "  <thead>\n",
       "    <tr style=\"text-align: right;\">\n",
       "      <th></th>\n",
       "      <th>payment_type_id</th>\n",
       "      <th>contract_type_id</th>\n",
       "      <th>internet_service_type_id</th>\n",
       "      <th>customer_id</th>\n",
       "      <th>gender</th>\n",
       "      <th>senior_citizen</th>\n",
       "      <th>partner</th>\n",
       "      <th>dependents</th>\n",
       "      <th>tenure</th>\n",
       "      <th>phone_service</th>\n",
       "      <th>...</th>\n",
       "      <th>tech_support</th>\n",
       "      <th>streaming_tv</th>\n",
       "      <th>streaming_movies</th>\n",
       "      <th>paperless_billing</th>\n",
       "      <th>monthly_charges</th>\n",
       "      <th>total_charges</th>\n",
       "      <th>churn</th>\n",
       "      <th>internet_service_type</th>\n",
       "      <th>contract_type</th>\n",
       "      <th>payment_type</th>\n",
       "    </tr>\n",
       "  </thead>\n",
       "  <tbody>\n",
       "    <tr>\n",
       "      <th>0</th>\n",
       "      <td>2</td>\n",
       "      <td>2</td>\n",
       "      <td>1</td>\n",
       "      <td>0002-ORFBO</td>\n",
       "      <td>Female</td>\n",
       "      <td>0</td>\n",
       "      <td>Yes</td>\n",
       "      <td>Yes</td>\n",
       "      <td>9</td>\n",
       "      <td>Yes</td>\n",
       "      <td>...</td>\n",
       "      <td>Yes</td>\n",
       "      <td>Yes</td>\n",
       "      <td>No</td>\n",
       "      <td>Yes</td>\n",
       "      <td>65.6</td>\n",
       "      <td>593.3</td>\n",
       "      <td>No</td>\n",
       "      <td>DSL</td>\n",
       "      <td>One year</td>\n",
       "      <td>Mailed check</td>\n",
       "    </tr>\n",
       "    <tr>\n",
       "      <th>1</th>\n",
       "      <td>2</td>\n",
       "      <td>1</td>\n",
       "      <td>1</td>\n",
       "      <td>0003-MKNFE</td>\n",
       "      <td>Male</td>\n",
       "      <td>0</td>\n",
       "      <td>No</td>\n",
       "      <td>No</td>\n",
       "      <td>9</td>\n",
       "      <td>Yes</td>\n",
       "      <td>...</td>\n",
       "      <td>No</td>\n",
       "      <td>No</td>\n",
       "      <td>Yes</td>\n",
       "      <td>No</td>\n",
       "      <td>59.9</td>\n",
       "      <td>542.4</td>\n",
       "      <td>No</td>\n",
       "      <td>DSL</td>\n",
       "      <td>Month-to-month</td>\n",
       "      <td>Mailed check</td>\n",
       "    </tr>\n",
       "    <tr>\n",
       "      <th>2</th>\n",
       "      <td>1</td>\n",
       "      <td>1</td>\n",
       "      <td>2</td>\n",
       "      <td>0004-TLHLJ</td>\n",
       "      <td>Male</td>\n",
       "      <td>0</td>\n",
       "      <td>No</td>\n",
       "      <td>No</td>\n",
       "      <td>4</td>\n",
       "      <td>Yes</td>\n",
       "      <td>...</td>\n",
       "      <td>No</td>\n",
       "      <td>No</td>\n",
       "      <td>No</td>\n",
       "      <td>Yes</td>\n",
       "      <td>73.9</td>\n",
       "      <td>280.85</td>\n",
       "      <td>Yes</td>\n",
       "      <td>Fiber optic</td>\n",
       "      <td>Month-to-month</td>\n",
       "      <td>Electronic check</td>\n",
       "    </tr>\n",
       "  </tbody>\n",
       "</table>\n",
       "<p>3 rows × 24 columns</p>\n",
       "</div>"
      ],
      "text/plain": [
       "   payment_type_id  contract_type_id  internet_service_type_id customer_id  \\\n",
       "0                2                 2                         1  0002-ORFBO   \n",
       "1                2                 1                         1  0003-MKNFE   \n",
       "2                1                 1                         2  0004-TLHLJ   \n",
       "\n",
       "   gender  senior_citizen partner dependents  tenure phone_service  ...  \\\n",
       "0  Female               0     Yes        Yes       9           Yes  ...   \n",
       "1    Male               0      No         No       9           Yes  ...   \n",
       "2    Male               0      No         No       4           Yes  ...   \n",
       "\n",
       "  tech_support streaming_tv streaming_movies paperless_billing  \\\n",
       "0          Yes          Yes               No               Yes   \n",
       "1           No           No              Yes                No   \n",
       "2           No           No               No               Yes   \n",
       "\n",
       "  monthly_charges total_charges churn internet_service_type   contract_type  \\\n",
       "0            65.6         593.3    No                   DSL        One year   \n",
       "1            59.9         542.4    No                   DSL  Month-to-month   \n",
       "2            73.9        280.85   Yes           Fiber optic  Month-to-month   \n",
       "\n",
       "       payment_type  \n",
       "0      Mailed check  \n",
       "1      Mailed check  \n",
       "2  Electronic check  \n",
       "\n",
       "[3 rows x 24 columns]"
      ]
     },
     "execution_count": 33,
     "metadata": {},
     "output_type": "execute_result"
    }
   ],
   "source": [
    "tc = acquire.get_telco_data()\n",
    "tc.head(3)"
   ]
  },
  {
   "cell_type": "code",
   "execution_count": 34,
   "id": "28b4b1c5",
   "metadata": {},
   "outputs": [],
   "source": [
    "telco_df = prepare.prep_telco_data(tc)"
   ]
  },
  {
   "cell_type": "code",
   "execution_count": 35,
   "id": "3eace181",
   "metadata": {},
   "outputs": [],
   "source": [
    "train, validate, test = telco_df"
   ]
  },
  {
   "cell_type": "code",
   "execution_count": 36,
   "id": "adb29371",
   "metadata": {},
   "outputs": [
    {
     "data": {
      "text/html": [
       "<div>\n",
       "<style scoped>\n",
       "    .dataframe tbody tr th:only-of-type {\n",
       "        vertical-align: middle;\n",
       "    }\n",
       "\n",
       "    .dataframe tbody tr th {\n",
       "        vertical-align: top;\n",
       "    }\n",
       "\n",
       "    .dataframe thead th {\n",
       "        text-align: right;\n",
       "    }\n",
       "</style>\n",
       "<table border=\"1\" class=\"dataframe\">\n",
       "  <thead>\n",
       "    <tr style=\"text-align: right;\">\n",
       "      <th></th>\n",
       "      <th>gender</th>\n",
       "      <th>senior_citizen</th>\n",
       "      <th>partner</th>\n",
       "      <th>dependents</th>\n",
       "      <th>tenure</th>\n",
       "      <th>phone_service</th>\n",
       "      <th>multiple_lines</th>\n",
       "      <th>online_security</th>\n",
       "      <th>online_backup</th>\n",
       "      <th>device_protection</th>\n",
       "      <th>...</th>\n",
       "      <th>streaming_tv_Yes</th>\n",
       "      <th>streaming_movies_No internet service</th>\n",
       "      <th>streaming_movies_Yes</th>\n",
       "      <th>contract_type_One year</th>\n",
       "      <th>contract_type_Two year</th>\n",
       "      <th>internet_service_type_Fiber optic</th>\n",
       "      <th>internet_service_type_None</th>\n",
       "      <th>payment_type_Credit card (automatic)</th>\n",
       "      <th>payment_type_Electronic check</th>\n",
       "      <th>payment_type_Mailed check</th>\n",
       "    </tr>\n",
       "  </thead>\n",
       "  <tbody>\n",
       "    <tr>\n",
       "      <th>5919</th>\n",
       "      <td>Female</td>\n",
       "      <td>0</td>\n",
       "      <td>No</td>\n",
       "      <td>No</td>\n",
       "      <td>58</td>\n",
       "      <td>Yes</td>\n",
       "      <td>Yes</td>\n",
       "      <td>Yes</td>\n",
       "      <td>Yes</td>\n",
       "      <td>Yes</td>\n",
       "      <td>...</td>\n",
       "      <td>0</td>\n",
       "      <td>0</td>\n",
       "      <td>0</td>\n",
       "      <td>1</td>\n",
       "      <td>0</td>\n",
       "      <td>0</td>\n",
       "      <td>0</td>\n",
       "      <td>1</td>\n",
       "      <td>0</td>\n",
       "      <td>0</td>\n",
       "    </tr>\n",
       "    <tr>\n",
       "      <th>1915</th>\n",
       "      <td>Male</td>\n",
       "      <td>0</td>\n",
       "      <td>No</td>\n",
       "      <td>Yes</td>\n",
       "      <td>71</td>\n",
       "      <td>Yes</td>\n",
       "      <td>Yes</td>\n",
       "      <td>Yes</td>\n",
       "      <td>Yes</td>\n",
       "      <td>No</td>\n",
       "      <td>...</td>\n",
       "      <td>0</td>\n",
       "      <td>0</td>\n",
       "      <td>0</td>\n",
       "      <td>1</td>\n",
       "      <td>0</td>\n",
       "      <td>1</td>\n",
       "      <td>0</td>\n",
       "      <td>1</td>\n",
       "      <td>0</td>\n",
       "      <td>0</td>\n",
       "    </tr>\n",
       "    <tr>\n",
       "      <th>5054</th>\n",
       "      <td>Female</td>\n",
       "      <td>0</td>\n",
       "      <td>Yes</td>\n",
       "      <td>Yes</td>\n",
       "      <td>35</td>\n",
       "      <td>Yes</td>\n",
       "      <td>Yes</td>\n",
       "      <td>No internet service</td>\n",
       "      <td>No internet service</td>\n",
       "      <td>No internet service</td>\n",
       "      <td>...</td>\n",
       "      <td>0</td>\n",
       "      <td>1</td>\n",
       "      <td>0</td>\n",
       "      <td>0</td>\n",
       "      <td>0</td>\n",
       "      <td>0</td>\n",
       "      <td>1</td>\n",
       "      <td>0</td>\n",
       "      <td>1</td>\n",
       "      <td>0</td>\n",
       "    </tr>\n",
       "  </tbody>\n",
       "</table>\n",
       "<p>3 rows × 47 columns</p>\n",
       "</div>"
      ],
      "text/plain": [
       "      gender  senior_citizen partner dependents  tenure phone_service  \\\n",
       "5919  Female               0      No         No      58           Yes   \n",
       "1915    Male               0      No        Yes      71           Yes   \n",
       "5054  Female               0     Yes        Yes      35           Yes   \n",
       "\n",
       "     multiple_lines      online_security        online_backup  \\\n",
       "5919            Yes                  Yes                  Yes   \n",
       "1915            Yes                  Yes                  Yes   \n",
       "5054            Yes  No internet service  No internet service   \n",
       "\n",
       "        device_protection  ... streaming_tv_Yes  \\\n",
       "5919                  Yes  ...                0   \n",
       "1915                   No  ...                0   \n",
       "5054  No internet service  ...                0   \n",
       "\n",
       "     streaming_movies_No internet service streaming_movies_Yes  \\\n",
       "5919                                    0                    0   \n",
       "1915                                    0                    0   \n",
       "5054                                    1                    0   \n",
       "\n",
       "     contract_type_One year  contract_type_Two year  \\\n",
       "5919                      1                       0   \n",
       "1915                      1                       0   \n",
       "5054                      0                       0   \n",
       "\n",
       "      internet_service_type_Fiber optic internet_service_type_None  \\\n",
       "5919                                  0                          0   \n",
       "1915                                  1                          0   \n",
       "5054                                  0                          1   \n",
       "\n",
       "     payment_type_Credit card (automatic) payment_type_Electronic check  \\\n",
       "5919                                    1                             0   \n",
       "1915                                    1                             0   \n",
       "5054                                    0                             1   \n",
       "\n",
       "     payment_type_Mailed check  \n",
       "5919                         0  \n",
       "1915                         0  \n",
       "5054                         0  \n",
       "\n",
       "[3 rows x 47 columns]"
      ]
     },
     "execution_count": 36,
     "metadata": {},
     "output_type": "execute_result"
    }
   ],
   "source": [
    "train.head(3)"
   ]
  },
  {
   "cell_type": "code",
   "execution_count": 37,
   "id": "b4003ff4",
   "metadata": {},
   "outputs": [
    {
     "data": {
      "text/plain": [
       "5919    1\n",
       "1915    0\n",
       "5054    1\n",
       "Name: gender_encoded, dtype: int64"
      ]
     },
     "execution_count": 37,
     "metadata": {},
     "output_type": "execute_result"
    }
   ],
   "source": [
    "#Gender encoded is a 1 for female\n",
    "train.gender_encoded.head(3)"
   ]
  },
  {
   "cell_type": "code",
   "execution_count": 38,
   "id": "aced8cb8",
   "metadata": {},
   "outputs": [],
   "source": [
    "cols_to_drop = ['gender', 'partner', 'dependents', 'phone_service', 'multiple_lines', 'online_security', 'device_protection'] \n",
    "train = train.drop(columns=cols_to_drop)"
   ]
  },
  {
   "cell_type": "code",
   "execution_count": 39,
   "id": "2931d543",
   "metadata": {},
   "outputs": [],
   "source": [
    "cols_to_drop = ['gender', 'partner', 'dependents', 'phone_service', 'multiple_lines', 'online_security', 'device_protection'] \n",
    "validate = validate.drop(columns=cols_to_drop)"
   ]
  },
  {
   "cell_type": "code",
   "execution_count": 40,
   "id": "22e25602",
   "metadata": {},
   "outputs": [],
   "source": [
    "cols_to_drop = ['gender', 'partner', 'dependents', 'phone_service', 'multiple_lines', 'online_security', 'device_protection'] \n",
    "test = test.drop(columns=cols_to_drop)"
   ]
  },
  {
   "cell_type": "code",
   "execution_count": 41,
   "id": "db472aad",
   "metadata": {},
   "outputs": [
    {
     "data": {
      "text/html": [
       "<div>\n",
       "<style scoped>\n",
       "    .dataframe tbody tr th:only-of-type {\n",
       "        vertical-align: middle;\n",
       "    }\n",
       "\n",
       "    .dataframe tbody tr th {\n",
       "        vertical-align: top;\n",
       "    }\n",
       "\n",
       "    .dataframe thead th {\n",
       "        text-align: right;\n",
       "    }\n",
       "</style>\n",
       "<table border=\"1\" class=\"dataframe\">\n",
       "  <thead>\n",
       "    <tr style=\"text-align: right;\">\n",
       "      <th></th>\n",
       "      <th>senior_citizen</th>\n",
       "      <th>tenure</th>\n",
       "      <th>online_backup</th>\n",
       "      <th>tech_support</th>\n",
       "      <th>streaming_tv</th>\n",
       "      <th>streaming_movies</th>\n",
       "      <th>paperless_billing</th>\n",
       "      <th>monthly_charges</th>\n",
       "      <th>total_charges</th>\n",
       "      <th>churn</th>\n",
       "      <th>...</th>\n",
       "      <th>streaming_tv_Yes</th>\n",
       "      <th>streaming_movies_No internet service</th>\n",
       "      <th>streaming_movies_Yes</th>\n",
       "      <th>contract_type_One year</th>\n",
       "      <th>contract_type_Two year</th>\n",
       "      <th>internet_service_type_Fiber optic</th>\n",
       "      <th>internet_service_type_None</th>\n",
       "      <th>payment_type_Credit card (automatic)</th>\n",
       "      <th>payment_type_Electronic check</th>\n",
       "      <th>payment_type_Mailed check</th>\n",
       "    </tr>\n",
       "  </thead>\n",
       "  <tbody>\n",
       "    <tr>\n",
       "      <th>5919</th>\n",
       "      <td>0</td>\n",
       "      <td>58</td>\n",
       "      <td>Yes</td>\n",
       "      <td>Yes</td>\n",
       "      <td>No</td>\n",
       "      <td>No</td>\n",
       "      <td>Yes</td>\n",
       "      <td>71.10</td>\n",
       "      <td>4299.20</td>\n",
       "      <td>No</td>\n",
       "      <td>...</td>\n",
       "      <td>0</td>\n",
       "      <td>0</td>\n",
       "      <td>0</td>\n",
       "      <td>1</td>\n",
       "      <td>0</td>\n",
       "      <td>0</td>\n",
       "      <td>0</td>\n",
       "      <td>1</td>\n",
       "      <td>0</td>\n",
       "      <td>0</td>\n",
       "    </tr>\n",
       "    <tr>\n",
       "      <th>1915</th>\n",
       "      <td>0</td>\n",
       "      <td>71</td>\n",
       "      <td>Yes</td>\n",
       "      <td>No</td>\n",
       "      <td>No</td>\n",
       "      <td>No</td>\n",
       "      <td>Yes</td>\n",
       "      <td>85.45</td>\n",
       "      <td>6028.95</td>\n",
       "      <td>No</td>\n",
       "      <td>...</td>\n",
       "      <td>0</td>\n",
       "      <td>0</td>\n",
       "      <td>0</td>\n",
       "      <td>1</td>\n",
       "      <td>0</td>\n",
       "      <td>1</td>\n",
       "      <td>0</td>\n",
       "      <td>1</td>\n",
       "      <td>0</td>\n",
       "      <td>0</td>\n",
       "    </tr>\n",
       "    <tr>\n",
       "      <th>5054</th>\n",
       "      <td>0</td>\n",
       "      <td>35</td>\n",
       "      <td>No internet service</td>\n",
       "      <td>No internet service</td>\n",
       "      <td>No internet service</td>\n",
       "      <td>No internet service</td>\n",
       "      <td>Yes</td>\n",
       "      <td>25.75</td>\n",
       "      <td>882.55</td>\n",
       "      <td>No</td>\n",
       "      <td>...</td>\n",
       "      <td>0</td>\n",
       "      <td>1</td>\n",
       "      <td>0</td>\n",
       "      <td>0</td>\n",
       "      <td>0</td>\n",
       "      <td>0</td>\n",
       "      <td>1</td>\n",
       "      <td>0</td>\n",
       "      <td>1</td>\n",
       "      <td>0</td>\n",
       "    </tr>\n",
       "  </tbody>\n",
       "</table>\n",
       "<p>3 rows × 40 columns</p>\n",
       "</div>"
      ],
      "text/plain": [
       "      senior_citizen  tenure        online_backup         tech_support  \\\n",
       "5919               0      58                  Yes                  Yes   \n",
       "1915               0      71                  Yes                   No   \n",
       "5054               0      35  No internet service  No internet service   \n",
       "\n",
       "             streaming_tv     streaming_movies paperless_billing  \\\n",
       "5919                   No                   No               Yes   \n",
       "1915                   No                   No               Yes   \n",
       "5054  No internet service  No internet service               Yes   \n",
       "\n",
       "      monthly_charges  total_charges churn  ... streaming_tv_Yes  \\\n",
       "5919            71.10        4299.20    No  ...                0   \n",
       "1915            85.45        6028.95    No  ...                0   \n",
       "5054            25.75         882.55    No  ...                0   \n",
       "\n",
       "     streaming_movies_No internet service streaming_movies_Yes  \\\n",
       "5919                                    0                    0   \n",
       "1915                                    0                    0   \n",
       "5054                                    1                    0   \n",
       "\n",
       "      contract_type_One year  contract_type_Two year  \\\n",
       "5919                       1                       0   \n",
       "1915                       1                       0   \n",
       "5054                       0                       0   \n",
       "\n",
       "      internet_service_type_Fiber optic  internet_service_type_None  \\\n",
       "5919                                  0                           0   \n",
       "1915                                  1                           0   \n",
       "5054                                  0                           1   \n",
       "\n",
       "      payment_type_Credit card (automatic)  payment_type_Electronic check  \\\n",
       "5919                                     1                              0   \n",
       "1915                                     1                              0   \n",
       "5054                                     0                              1   \n",
       "\n",
       "      payment_type_Mailed check  \n",
       "5919                          0  \n",
       "1915                          0  \n",
       "5054                          0  \n",
       "\n",
       "[3 rows x 40 columns]"
      ]
     },
     "execution_count": 41,
     "metadata": {},
     "output_type": "execute_result"
    }
   ],
   "source": [
    "train.head(3)"
   ]
  },
  {
   "cell_type": "code",
   "execution_count": 42,
   "id": "28caf3b9",
   "metadata": {},
   "outputs": [],
   "source": [
    "cols_to_drop = ['online_backup', 'tech_support', 'streaming_tv', 'streaming_movies', 'paperless_billing', 'churn', 'internet_service_type', 'contract_type', 'payment_type'] \n",
    "train = train.drop(columns=cols_to_drop)"
   ]
  },
  {
   "cell_type": "code",
   "execution_count": 43,
   "id": "8c718fcd",
   "metadata": {},
   "outputs": [],
   "source": [
    "cols_to_drop = ['online_backup', 'tech_support', 'streaming_tv', 'streaming_movies', 'paperless_billing', 'churn', 'internet_service_type', 'contract_type', 'payment_type'] \n",
    "validate = validate.drop(columns=cols_to_drop)"
   ]
  },
  {
   "cell_type": "code",
   "execution_count": 44,
   "id": "d5f57acd",
   "metadata": {},
   "outputs": [],
   "source": [
    "cols_to_drop = ['online_backup', 'tech_support', 'streaming_tv', 'streaming_movies', 'paperless_billing', 'churn', 'internet_service_type', 'contract_type', 'payment_type'] \n",
    "test = test.drop(columns=cols_to_drop)"
   ]
  },
  {
   "cell_type": "code",
   "execution_count": 45,
   "id": "db5daf3a",
   "metadata": {},
   "outputs": [
    {
     "data": {
      "text/html": [
       "<div>\n",
       "<style scoped>\n",
       "    .dataframe tbody tr th:only-of-type {\n",
       "        vertical-align: middle;\n",
       "    }\n",
       "\n",
       "    .dataframe tbody tr th {\n",
       "        vertical-align: top;\n",
       "    }\n",
       "\n",
       "    .dataframe thead th {\n",
       "        text-align: right;\n",
       "    }\n",
       "</style>\n",
       "<table border=\"1\" class=\"dataframe\">\n",
       "  <thead>\n",
       "    <tr style=\"text-align: right;\">\n",
       "      <th></th>\n",
       "      <th>senior_citizen</th>\n",
       "      <th>tenure</th>\n",
       "      <th>monthly_charges</th>\n",
       "      <th>total_charges</th>\n",
       "      <th>gender_encoded</th>\n",
       "      <th>partner_encoded</th>\n",
       "      <th>dependents_encoded</th>\n",
       "      <th>phone_service_encoded</th>\n",
       "      <th>paperless_billing_encoded</th>\n",
       "      <th>churn_encoded</th>\n",
       "      <th>...</th>\n",
       "      <th>streaming_tv_Yes</th>\n",
       "      <th>streaming_movies_No internet service</th>\n",
       "      <th>streaming_movies_Yes</th>\n",
       "      <th>contract_type_One year</th>\n",
       "      <th>contract_type_Two year</th>\n",
       "      <th>internet_service_type_Fiber optic</th>\n",
       "      <th>internet_service_type_None</th>\n",
       "      <th>payment_type_Credit card (automatic)</th>\n",
       "      <th>payment_type_Electronic check</th>\n",
       "      <th>payment_type_Mailed check</th>\n",
       "    </tr>\n",
       "  </thead>\n",
       "  <tbody>\n",
       "    <tr>\n",
       "      <th>5919</th>\n",
       "      <td>0</td>\n",
       "      <td>58</td>\n",
       "      <td>71.10</td>\n",
       "      <td>4299.20</td>\n",
       "      <td>1</td>\n",
       "      <td>0</td>\n",
       "      <td>0</td>\n",
       "      <td>1</td>\n",
       "      <td>1</td>\n",
       "      <td>0</td>\n",
       "      <td>...</td>\n",
       "      <td>0</td>\n",
       "      <td>0</td>\n",
       "      <td>0</td>\n",
       "      <td>1</td>\n",
       "      <td>0</td>\n",
       "      <td>0</td>\n",
       "      <td>0</td>\n",
       "      <td>1</td>\n",
       "      <td>0</td>\n",
       "      <td>0</td>\n",
       "    </tr>\n",
       "    <tr>\n",
       "      <th>1915</th>\n",
       "      <td>0</td>\n",
       "      <td>71</td>\n",
       "      <td>85.45</td>\n",
       "      <td>6028.95</td>\n",
       "      <td>0</td>\n",
       "      <td>0</td>\n",
       "      <td>1</td>\n",
       "      <td>1</td>\n",
       "      <td>1</td>\n",
       "      <td>0</td>\n",
       "      <td>...</td>\n",
       "      <td>0</td>\n",
       "      <td>0</td>\n",
       "      <td>0</td>\n",
       "      <td>1</td>\n",
       "      <td>0</td>\n",
       "      <td>1</td>\n",
       "      <td>0</td>\n",
       "      <td>1</td>\n",
       "      <td>0</td>\n",
       "      <td>0</td>\n",
       "    </tr>\n",
       "    <tr>\n",
       "      <th>5054</th>\n",
       "      <td>0</td>\n",
       "      <td>35</td>\n",
       "      <td>25.75</td>\n",
       "      <td>882.55</td>\n",
       "      <td>1</td>\n",
       "      <td>1</td>\n",
       "      <td>1</td>\n",
       "      <td>1</td>\n",
       "      <td>1</td>\n",
       "      <td>0</td>\n",
       "      <td>...</td>\n",
       "      <td>0</td>\n",
       "      <td>1</td>\n",
       "      <td>0</td>\n",
       "      <td>0</td>\n",
       "      <td>0</td>\n",
       "      <td>0</td>\n",
       "      <td>1</td>\n",
       "      <td>0</td>\n",
       "      <td>1</td>\n",
       "      <td>0</td>\n",
       "    </tr>\n",
       "  </tbody>\n",
       "</table>\n",
       "<p>3 rows × 31 columns</p>\n",
       "</div>"
      ],
      "text/plain": [
       "      senior_citizen  tenure  monthly_charges  total_charges  gender_encoded  \\\n",
       "5919               0      58            71.10        4299.20               1   \n",
       "1915               0      71            85.45        6028.95               0   \n",
       "5054               0      35            25.75         882.55               1   \n",
       "\n",
       "      partner_encoded  dependents_encoded  phone_service_encoded  \\\n",
       "5919                0                   0                      1   \n",
       "1915                0                   1                      1   \n",
       "5054                1                   1                      1   \n",
       "\n",
       "      paperless_billing_encoded  churn_encoded  ...  streaming_tv_Yes  \\\n",
       "5919                          1              0  ...                 0   \n",
       "1915                          1              0  ...                 0   \n",
       "5054                          1              0  ...                 0   \n",
       "\n",
       "      streaming_movies_No internet service  streaming_movies_Yes  \\\n",
       "5919                                     0                     0   \n",
       "1915                                     0                     0   \n",
       "5054                                     1                     0   \n",
       "\n",
       "      contract_type_One year  contract_type_Two year  \\\n",
       "5919                       1                       0   \n",
       "1915                       1                       0   \n",
       "5054                       0                       0   \n",
       "\n",
       "      internet_service_type_Fiber optic  internet_service_type_None  \\\n",
       "5919                                  0                           0   \n",
       "1915                                  1                           0   \n",
       "5054                                  0                           1   \n",
       "\n",
       "      payment_type_Credit card (automatic)  payment_type_Electronic check  \\\n",
       "5919                                     1                              0   \n",
       "1915                                     1                              0   \n",
       "5054                                     0                              1   \n",
       "\n",
       "      payment_type_Mailed check  \n",
       "5919                          0  \n",
       "1915                          0  \n",
       "5054                          0  \n",
       "\n",
       "[3 rows x 31 columns]"
      ]
     },
     "execution_count": 45,
     "metadata": {},
     "output_type": "execute_result"
    }
   ],
   "source": [
    "train.head(3)"
   ]
  },
  {
   "cell_type": "code",
   "execution_count": 46,
   "id": "065bf7d4",
   "metadata": {},
   "outputs": [
    {
     "data": {
      "text/plain": [
       "0    2891\n",
       "1    1046\n",
       "Name: churn_encoded, dtype: int64"
      ]
     },
     "execution_count": 46,
     "metadata": {},
     "output_type": "execute_result"
    }
   ],
   "source": [
    "# 73% customers stayed \n",
    "train.churn_encoded.value_counts()"
   ]
  },
  {
   "cell_type": "code",
   "execution_count": 47,
   "id": "e5ea47f2",
   "metadata": {},
   "outputs": [],
   "source": [
    "X_train = train.drop(columns=['churn_encoded'])\n",
    "y_train = train.churn_encoded\n",
    "\n",
    "X_validate = validate.drop(columns=['churn_encoded'])\n",
    "y_validate = validate.churn_encoded\n",
    "\n",
    "X_test = test.drop(columns=['churn_encoded'])\n",
    "y_test = test.churn_encoded"
   ]
  },
  {
   "cell_type": "code",
   "execution_count": 48,
   "id": "12c3becb",
   "metadata": {},
   "outputs": [
    {
     "data": {
      "text/plain": [
       "[Text(558.0, 570.7800000000001, 'tenure <= 15.5\\ngini = 0.39\\nsamples = 3937\\nvalue = [2891, 1046]\\nclass = 0'),\n",
       " Text(279.0, 407.70000000000005, 'internet_service_type_Fiber optic <= 0.5\\ngini = 0.498\\nsamples = 1371\\nvalue = [733, 638]\\nclass = 0'),\n",
       " Text(139.5, 244.62, 'tenure <= 3.5\\ngini = 0.416\\nsamples = 804\\nvalue = [567, 237]\\nclass = 0'),\n",
       " Text(69.75, 81.53999999999996, 'gini = 0.491\\nsamples = 356\\nvalue = [202, 154]\\nclass = 0'),\n",
       " Text(209.25, 81.53999999999996, 'gini = 0.302\\nsamples = 448\\nvalue = [365, 83]\\nclass = 0'),\n",
       " Text(418.5, 244.62, 'total_charges <= 124.475\\ngini = 0.414\\nsamples = 567\\nvalue = [166, 401]\\nclass = 1'),\n",
       " Text(348.75, 81.53999999999996, 'gini = 0.203\\nsamples = 131\\nvalue = [15, 116]\\nclass = 1'),\n",
       " Text(488.25, 81.53999999999996, 'gini = 0.453\\nsamples = 436\\nvalue = [151, 285]\\nclass = 1'),\n",
       " Text(837.0, 407.70000000000005, 'internet_service_type_Fiber optic <= 0.5\\ngini = 0.267\\nsamples = 2566\\nvalue = [2158, 408]\\nclass = 0'),\n",
       " Text(697.5, 244.62, 'contract_type_Two year <= 0.5\\ngini = 0.099\\nsamples = 1411\\nvalue = [1337, 74]\\nclass = 0'),\n",
       " Text(627.75, 81.53999999999996, 'gini = 0.155\\nsamples = 742\\nvalue = [679, 63]\\nclass = 0'),\n",
       " Text(767.25, 81.53999999999996, 'gini = 0.032\\nsamples = 669\\nvalue = [658, 11]\\nclass = 0'),\n",
       " Text(976.5, 244.62, 'tenure <= 49.5\\ngini = 0.411\\nsamples = 1155\\nvalue = [821, 334]\\nclass = 0'),\n",
       " Text(906.75, 81.53999999999996, 'gini = 0.484\\nsamples = 597\\nvalue = [352, 245]\\nclass = 0'),\n",
       " Text(1046.25, 81.53999999999996, 'gini = 0.268\\nsamples = 558\\nvalue = [469, 89]\\nclass = 0')]"
      ]
     },
     "execution_count": 48,
     "metadata": {},
     "output_type": "execute_result"
    },
    {
     "data": {
      "image/png": "[encoded data removed]",
      "text/plain": [
       "<Figure size 1440x864 with 1 Axes>"
      ]
     },
     "metadata": {
      "needs_background": "light"
     },
     "output_type": "display_data"
    }
   ],
   "source": [
    "clf = DecisionTreeClassifier(max_depth=3, random_state=123)\n",
    "clf = clf.fit(X_train, y_train)\n",
    "plt.figure(figsize=(20, 12))\n",
    "plot_tree(clf, feature_names=X_train.columns, class_names=clf.classes_.astype(str), rounded=True)"
   ]
  },
  {
   "cell_type": "code",
   "execution_count": 49,
   "id": "3c5e13fc",
   "metadata": {},
   "outputs": [
    {
     "name": "stdout",
     "output_type": "stream",
     "text": [
      "Accuracy of Decision Tree classifier on training set: 0.79\n"
     ]
    }
   ],
   "source": [
    "y_pred = clf.predict(X_train)\n",
    "y_pred[0:5]\n",
    "print('Accuracy of Decision Tree classifier on training set: {:.2f}'\n",
    "      .format(clf.score(X_train, y_train)))"
   ]
  },
  {
   "cell_type": "code",
   "execution_count": 50,
   "id": "15899ec9",
   "metadata": {},
   "outputs": [
    {
     "data": {
      "text/plain": [
       "array([[2725,  166],\n",
       "       [ 645,  401]])"
      ]
     },
     "execution_count": 50,
     "metadata": {},
     "output_type": "execute_result"
    }
   ],
   "source": [
    "confusion_matrix(y_train, y_pred)"
   ]
  },
  {
   "cell_type": "code",
   "execution_count": 51,
   "id": "acb52d4a",
   "metadata": {},
   "outputs": [
    {
     "data": {
      "text/plain": [
       "0    2891\n",
       "1    1046\n",
       "Name: churn_encoded, dtype: int64"
      ]
     },
     "execution_count": 51,
     "metadata": {},
     "output_type": "execute_result"
    }
   ],
   "source": [
    "y_train.value_counts()"
   ]
  },
  {
   "cell_type": "code",
   "execution_count": 52,
   "id": "e1c8db40",
   "metadata": {},
   "outputs": [
    {
     "data": {
      "text/html": [
       "<div>\n",
       "<style scoped>\n",
       "    .dataframe tbody tr th:only-of-type {\n",
       "        vertical-align: middle;\n",
       "    }\n",
       "\n",
       "    .dataframe tbody tr th {\n",
       "        vertical-align: top;\n",
       "    }\n",
       "\n",
       "    .dataframe thead th {\n",
       "        text-align: right;\n",
       "    }\n",
       "</style>\n",
       "<table border=\"1\" class=\"dataframe\">\n",
       "  <thead>\n",
       "    <tr style=\"text-align: right;\">\n",
       "      <th></th>\n",
       "      <th>0</th>\n",
       "      <th>1</th>\n",
       "    </tr>\n",
       "  </thead>\n",
       "  <tbody>\n",
       "    <tr>\n",
       "      <th>0</th>\n",
       "      <td>2725</td>\n",
       "      <td>166</td>\n",
       "    </tr>\n",
       "    <tr>\n",
       "      <th>1</th>\n",
       "      <td>645</td>\n",
       "      <td>401</td>\n",
       "    </tr>\n",
       "  </tbody>\n",
       "</table>\n",
       "</div>"
      ],
      "text/plain": [
       "      0    1\n",
       "0  2725  166\n",
       "1   645  401"
      ]
     },
     "execution_count": 52,
     "metadata": {},
     "output_type": "execute_result"
    }
   ],
   "source": [
    "labels = sorted(y_train.unique())\n",
    "\n",
    "pd.DataFrame(confusion_matrix(y_train, y_pred), index=labels, columns=labels)"
   ]
  },
  {
   "cell_type": "code",
   "execution_count": 53,
   "id": "0be401ec",
   "metadata": {},
   "outputs": [
    {
     "name": "stdout",
     "output_type": "stream",
     "text": [
      "              precision    recall  f1-score   support\n",
      "\n",
      "           0       0.81      0.94      0.87      2891\n",
      "           1       0.71      0.38      0.50      1046\n",
      "\n",
      "    accuracy                           0.79      3937\n",
      "   macro avg       0.76      0.66      0.68      3937\n",
      "weighted avg       0.78      0.79      0.77      3937\n",
      "\n"
     ]
    }
   ],
   "source": [
    "print(classification_report(y_train, y_pred))"
   ]
  },
  {
   "cell_type": "markdown",
   "id": "4efb34b5",
   "metadata": {},
   "source": [
    "# Lather, Rinse, Repeat"
   ]
  },
  {
   "cell_type": "code",
   "execution_count": 54,
   "id": "40cbd787",
   "metadata": {},
   "outputs": [
    {
     "data": {
      "text/plain": [
       "[Text(558.0, 543.6, 'tenure <= 15.5\\ngini = 0.39\\nsamples = 3937\\nvalue = [2891, 1046]\\nclass = 0'),\n",
       " Text(279.0, 326.16, 'internet_service_type_Fiber optic <= 0.5\\ngini = 0.498\\nsamples = 1371\\nvalue = [733, 638]\\nclass = 0'),\n",
       " Text(139.5, 108.72000000000003, 'gini = 0.416\\nsamples = 804\\nvalue = [567, 237]\\nclass = 0'),\n",
       " Text(418.5, 108.72000000000003, 'gini = 0.414\\nsamples = 567\\nvalue = [166, 401]\\nclass = 1'),\n",
       " Text(837.0, 326.16, 'internet_service_type_Fiber optic <= 0.5\\ngini = 0.267\\nsamples = 2566\\nvalue = [2158, 408]\\nclass = 0'),\n",
       " Text(697.5, 108.72000000000003, 'gini = 0.099\\nsamples = 1411\\nvalue = [1337, 74]\\nclass = 0'),\n",
       " Text(976.5, 108.72000000000003, 'gini = 0.411\\nsamples = 1155\\nvalue = [821, 334]\\nclass = 0')]"
      ]
     },
     "execution_count": 54,
     "metadata": {},
     "output_type": "execute_result"
    },
    {
     "data": {
      "image/png": "[encoded data removed]",
      "text/plain": [
       "<Figure size 1440x864 with 1 Axes>"
      ]
     },
     "metadata": {
      "needs_background": "light"
     },
     "output_type": "display_data"
    }
   ],
   "source": [
    "clf = DecisionTreeClassifier(max_depth=2, random_state=123)\n",
    "clf = clf.fit(X_train, y_train)\n",
    "plt.figure(figsize=(20, 12))\n",
    "plot_tree(clf, feature_names=X_train.columns, class_names=clf.classes_.astype(str), rounded=True)"
   ]
  },
  {
   "cell_type": "code",
   "execution_count": 55,
   "id": "3b5277aa",
   "metadata": {},
   "outputs": [
    {
     "name": "stdout",
     "output_type": "stream",
     "text": [
      "Accuracy of Decision Tree classifier on training set: 0.79\n"
     ]
    }
   ],
   "source": [
    "y_pred = clf.predict(X_train)\n",
    "y_pred[0:5]\n",
    "print('Accuracy of Decision Tree classifier on training set: {:.2f}'\n",
    "      .format(clf.score(X_train, y_train)))"
   ]
  },
  {
   "cell_type": "code",
   "execution_count": 56,
   "id": "69ec91e1",
   "metadata": {},
   "outputs": [
    {
     "data": {
      "text/plain": [
       "array([[2725,  166],\n",
       "       [ 645,  401]])"
      ]
     },
     "execution_count": 56,
     "metadata": {},
     "output_type": "execute_result"
    }
   ],
   "source": [
    "confusion_matrix(y_train, y_pred)"
   ]
  },
  {
   "cell_type": "code",
   "execution_count": 57,
   "id": "9d55c290",
   "metadata": {},
   "outputs": [
    {
     "data": {
      "text/plain": [
       "0    2891\n",
       "1    1046\n",
       "Name: churn_encoded, dtype: int64"
      ]
     },
     "execution_count": 57,
     "metadata": {},
     "output_type": "execute_result"
    }
   ],
   "source": [
    "y_train.value_counts()"
   ]
  },
  {
   "cell_type": "code",
   "execution_count": 58,
   "id": "a1302401",
   "metadata": {},
   "outputs": [
    {
     "data": {
      "text/html": [
       "<div>\n",
       "<style scoped>\n",
       "    .dataframe tbody tr th:only-of-type {\n",
       "        vertical-align: middle;\n",
       "    }\n",
       "\n",
       "    .dataframe tbody tr th {\n",
       "        vertical-align: top;\n",
       "    }\n",
       "\n",
       "    .dataframe thead th {\n",
       "        text-align: right;\n",
       "    }\n",
       "</style>\n",
       "<table border=\"1\" class=\"dataframe\">\n",
       "  <thead>\n",
       "    <tr style=\"text-align: right;\">\n",
       "      <th></th>\n",
       "      <th>0</th>\n",
       "      <th>1</th>\n",
       "    </tr>\n",
       "  </thead>\n",
       "  <tbody>\n",
       "    <tr>\n",
       "      <th>0</th>\n",
       "      <td>2725</td>\n",
       "      <td>166</td>\n",
       "    </tr>\n",
       "    <tr>\n",
       "      <th>1</th>\n",
       "      <td>645</td>\n",
       "      <td>401</td>\n",
       "    </tr>\n",
       "  </tbody>\n",
       "</table>\n",
       "</div>"
      ],
      "text/plain": [
       "      0    1\n",
       "0  2725  166\n",
       "1   645  401"
      ]
     },
     "execution_count": 58,
     "metadata": {},
     "output_type": "execute_result"
    }
   ],
   "source": [
    "labels = sorted(y_train.unique())\n",
    "\n",
    "pd.DataFrame(confusion_matrix(y_train, y_pred), index=labels, columns=labels)"
   ]
  },
  {
   "cell_type": "code",
   "execution_count": 59,
   "id": "6eed9c23",
   "metadata": {},
   "outputs": [
    {
     "name": "stdout",
     "output_type": "stream",
     "text": [
      "              precision    recall  f1-score   support\n",
      "\n",
      "           0       0.81      0.94      0.87      2891\n",
      "           1       0.71      0.38      0.50      1046\n",
      "\n",
      "    accuracy                           0.79      3937\n",
      "   macro avg       0.76      0.66      0.68      3937\n",
      "weighted avg       0.78      0.79      0.77      3937\n",
      "\n"
     ]
    }
   ],
   "source": [
    "print(classification_report(y_train, y_pred))"
   ]
  },
  {
   "cell_type": "markdown",
   "id": "f7201c49",
   "metadata": {},
   "source": [
    "# Lather, Rinse, Repeat"
   ]
  },
  {
   "cell_type": "code",
   "execution_count": 60,
   "id": "25958491",
   "metadata": {},
   "outputs": [
    {
     "data": {
      "text/plain": [
       "[Text(558.0, 489.24, 'tenure <= 15.5\\ngini = 0.39\\nsamples = 3937\\nvalue = [2891, 1046]\\nclass = 0'),\n",
       " Text(279.0, 163.08000000000004, 'gini = 0.498\\nsamples = 1371\\nvalue = [733, 638]\\nclass = 0'),\n",
       " Text(837.0, 163.08000000000004, 'gini = 0.267\\nsamples = 2566\\nvalue = [2158, 408]\\nclass = 0')]"
      ]
     },
     "execution_count": 60,
     "metadata": {},
     "output_type": "execute_result"
    },
    {
     "data": {
      "image/png": "[encoded data removed]",
      "text/plain": [
       "<Figure size 1440x864 with 1 Axes>"
      ]
     },
     "metadata": {
      "needs_background": "light"
     },
     "output_type": "display_data"
    }
   ],
   "source": [
    "clf = DecisionTreeClassifier(max_depth=1, random_state=123)\n",
    "clf = clf.fit(X_train, y_train)\n",
    "plt.figure(figsize=(20, 12))\n",
    "plot_tree(clf, feature_names=X_train.columns, class_names=clf.classes_.astype(str), rounded=True)"
   ]
  },
  {
   "cell_type": "code",
   "execution_count": 61,
   "id": "35796c89",
   "metadata": {},
   "outputs": [
    {
     "name": "stdout",
     "output_type": "stream",
     "text": [
      "Accuracy of Decision Tree classifier on training set: 0.73\n"
     ]
    }
   ],
   "source": [
    "y_pred = clf.predict(X_train)\n",
    "y_pred[0:5]\n",
    "print('Accuracy of Decision Tree classifier on training set: {:.2f}'\n",
    "      .format(clf.score(X_train, y_train)))"
   ]
  },
  {
   "cell_type": "code",
   "execution_count": 62,
   "id": "c7dd60b3",
   "metadata": {},
   "outputs": [
    {
     "data": {
      "text/plain": [
       "array([[2891,    0],\n",
       "       [1046,    0]])"
      ]
     },
     "execution_count": 62,
     "metadata": {},
     "output_type": "execute_result"
    }
   ],
   "source": [
    "confusion_matrix(y_train, y_pred)"
   ]
  },
  {
   "cell_type": "code",
   "execution_count": 63,
   "id": "a3b0fc56",
   "metadata": {},
   "outputs": [
    {
     "data": {
      "text/plain": [
       "0    2891\n",
       "1    1046\n",
       "Name: churn_encoded, dtype: int64"
      ]
     },
     "execution_count": 63,
     "metadata": {},
     "output_type": "execute_result"
    }
   ],
   "source": [
    "y_train.value_counts()"
   ]
  },
  {
   "cell_type": "code",
   "execution_count": 64,
   "id": "bf898999",
   "metadata": {},
   "outputs": [
    {
     "data": {
      "text/html": [
       "<div>\n",
       "<style scoped>\n",
       "    .dataframe tbody tr th:only-of-type {\n",
       "        vertical-align: middle;\n",
       "    }\n",
       "\n",
       "    .dataframe tbody tr th {\n",
       "        vertical-align: top;\n",
       "    }\n",
       "\n",
       "    .dataframe thead th {\n",
       "        text-align: right;\n",
       "    }\n",
       "</style>\n",
       "<table border=\"1\" class=\"dataframe\">\n",
       "  <thead>\n",
       "    <tr style=\"text-align: right;\">\n",
       "      <th></th>\n",
       "      <th>0</th>\n",
       "      <th>1</th>\n",
       "    </tr>\n",
       "  </thead>\n",
       "  <tbody>\n",
       "    <tr>\n",
       "      <th>0</th>\n",
       "      <td>2891</td>\n",
       "      <td>0</td>\n",
       "    </tr>\n",
       "    <tr>\n",
       "      <th>1</th>\n",
       "      <td>1046</td>\n",
       "      <td>0</td>\n",
       "    </tr>\n",
       "  </tbody>\n",
       "</table>\n",
       "</div>"
      ],
      "text/plain": [
       "      0  1\n",
       "0  2891  0\n",
       "1  1046  0"
      ]
     },
     "execution_count": 64,
     "metadata": {},
     "output_type": "execute_result"
    }
   ],
   "source": [
    "labels = sorted(y_train.unique())\n",
    "\n",
    "pd.DataFrame(confusion_matrix(y_train, y_pred), index=labels, columns=labels)"
   ]
  },
  {
   "cell_type": "code",
   "execution_count": 65,
   "id": "0797a7fb",
   "metadata": {},
   "outputs": [
    {
     "name": "stdout",
     "output_type": "stream",
     "text": [
      "              precision    recall  f1-score   support\n",
      "\n",
      "           0       0.73      1.00      0.85      2891\n",
      "           1       0.00      0.00      0.00      1046\n",
      "\n",
      "    accuracy                           0.73      3937\n",
      "   macro avg       0.37      0.50      0.42      3937\n",
      "weighted avg       0.54      0.73      0.62      3937\n",
      "\n"
     ]
    }
   ],
   "source": [
    "print(classification_report(y_train, y_pred))"
   ]
  },
  {
   "cell_type": "markdown",
   "id": "c17d3960",
   "metadata": {},
   "source": [
    "# Lather, Rinse, Repeat"
   ]
  },
  {
   "cell_type": "code",
   "execution_count": 66,
   "id": "6e2cb375",
   "metadata": {},
   "outputs": [
    {
     "data": {
      "text/plain": [
       "[Text(560.6359011627907, 611.5500000000001, 'tenure <= 15.5\\ngini = 0.39\\nsamples = 3937\\nvalue = [2891, 1046]\\nclass = 0'),\n",
       " Text(279.40552325581393, 530.01, 'internet_service_type_Fiber optic <= 0.5\\ngini = 0.498\\nsamples = 1371\\nvalue = [733, 638]\\nclass = 0'),\n",
       " Text(141.9331395348837, 448.47, 'tenure <= 3.5\\ngini = 0.416\\nsamples = 804\\nvalue = [567, 237]\\nclass = 0'),\n",
       " Text(79.48255813953489, 366.93, 'internet_service_type_None <= 0.5\\ngini = 0.491\\nsamples = 356\\nvalue = [202, 154]\\nclass = 0'),\n",
       " Text(48.66279069767442, 285.39000000000004, 'monthly_charges <= 60.475\\ngini = 0.495\\nsamples = 203\\nvalue = [91, 112]\\nclass = 1'),\n",
       " Text(25.953488372093023, 203.85000000000002, 'paperless_billing_encoded <= 0.5\\ngini = 0.485\\nsamples = 184\\nvalue = [76, 108]\\nclass = 1'),\n",
       " Text(12.976744186046512, 122.31000000000006, 'total_charges <= 24.725\\ngini = 0.5\\nsamples = 86\\nvalue = [44, 42]\\nclass = 0'),\n",
       " Text(6.488372093023256, 40.76999999999998, 'gini = 0.0\\nsamples = 4\\nvalue = [4, 0]\\nclass = 0'),\n",
       " Text(19.46511627906977, 40.76999999999998, 'gini = 0.5\\nsamples = 82\\nvalue = [40, 42]\\nclass = 1'),\n",
       " Text(38.93023255813954, 122.31000000000006, 'payment_type_Credit card (automatic) <= 0.5\\ngini = 0.44\\nsamples = 98\\nvalue = [32, 66]\\nclass = 1'),\n",
       " Text(32.44186046511628, 40.76999999999998, 'gini = 0.417\\nsamples = 91\\nvalue = [27, 64]\\nclass = 1'),\n",
       " Text(45.41860465116279, 40.76999999999998, 'gini = 0.408\\nsamples = 7\\nvalue = [5, 2]\\nclass = 0'),\n",
       " Text(71.37209302325581, 203.85000000000002, 'senior_citizen <= 0.5\\ngini = 0.332\\nsamples = 19\\nvalue = [15, 4]\\nclass = 0'),\n",
       " Text(64.88372093023256, 122.31000000000006, 'payment_type_Mailed check <= 0.5\\ngini = 0.278\\nsamples = 18\\nvalue = [15, 3]\\nclass = 0'),\n",
       " Text(58.395348837209305, 40.76999999999998, 'gini = 0.142\\nsamples = 13\\nvalue = [12, 1]\\nclass = 0'),\n",
       " Text(71.37209302325581, 40.76999999999998, 'gini = 0.48\\nsamples = 5\\nvalue = [3, 2]\\nclass = 0'),\n",
       " Text(77.86046511627907, 122.31000000000006, 'gini = 0.0\\nsamples = 1\\nvalue = [0, 1]\\nclass = 1'),\n",
       " Text(110.30232558139535, 285.39000000000004, 'total_charges <= 38.75\\ngini = 0.398\\nsamples = 153\\nvalue = [111, 42]\\nclass = 0'),\n",
       " Text(97.32558139534883, 203.85000000000002, 'senior_citizen <= 0.5\\ngini = 0.454\\nsamples = 109\\nvalue = [71, 38]\\nclass = 0'),\n",
       " Text(90.83720930232558, 122.31000000000006, 'total_charges <= 34.775\\ngini = 0.442\\nsamples = 106\\nvalue = [71, 35]\\nclass = 0'),\n",
       " Text(84.34883720930233, 40.76999999999998, 'gini = 0.433\\nsamples = 104\\nvalue = [71, 33]\\nclass = 0'),\n",
       " Text(97.32558139534883, 40.76999999999998, 'gini = 0.0\\nsamples = 2\\nvalue = [0, 2]\\nclass = 1'),\n",
       " Text(103.81395348837209, 122.31000000000006, 'gini = 0.0\\nsamples = 3\\nvalue = [0, 3]\\nclass = 1'),\n",
       " Text(123.27906976744185, 203.85000000000002, 'total_charges <= 58.075\\ngini = 0.165\\nsamples = 44\\nvalue = [40, 4]\\nclass = 0'),\n",
       " Text(116.79069767441861, 122.31000000000006, 'gini = 0.0\\nsamples = 27\\nvalue = [27, 0]\\nclass = 0'),\n",
       " Text(129.7674418604651, 122.31000000000006, 'total_charges <= 60.2\\ngini = 0.36\\nsamples = 17\\nvalue = [13, 4]\\nclass = 0'),\n",
       " Text(123.27906976744185, 40.76999999999998, 'gini = 0.375\\nsamples = 4\\nvalue = [1, 3]\\nclass = 1'),\n",
       " Text(136.25581395348837, 40.76999999999998, 'gini = 0.142\\nsamples = 13\\nvalue = [12, 1]\\nclass = 0'),\n",
       " Text(204.38372093023256, 366.93, 'monthly_charges <= 20.925\\ngini = 0.302\\nsamples = 448\\nvalue = [365, 83]\\nclass = 0'),\n",
       " Text(162.2093023255814, 285.39000000000004, 'gender_encoded <= 0.5\\ngini = 0.111\\nsamples = 152\\nvalue = [143, 9]\\nclass = 0'),\n",
       " Text(155.72093023255815, 203.85000000000002, 'gini = 0.0\\nsamples = 73\\nvalue = [73, 0]\\nclass = 0'),\n",
       " Text(168.69767441860466, 203.85000000000002, 'monthly_charges <= 19.875\\ngini = 0.202\\nsamples = 79\\nvalue = [70, 9]\\nclass = 0'),\n",
       " Text(155.72093023255815, 122.31000000000006, 'payment_type_Mailed check <= 0.5\\ngini = 0.358\\nsamples = 30\\nvalue = [23, 7]\\nclass = 0'),\n",
       " Text(149.2325581395349, 40.76999999999998, 'gini = 0.473\\nsamples = 13\\nvalue = [8, 5]\\nclass = 0'),\n",
       " Text(162.2093023255814, 40.76999999999998, 'gini = 0.208\\nsamples = 17\\nvalue = [15, 2]\\nclass = 0'),\n",
       " Text(181.67441860465115, 122.31000000000006, 'total_charges <= 78.275\\ngini = 0.078\\nsamples = 49\\nvalue = [47, 2]\\nclass = 0'),\n",
       " Text(175.1860465116279, 40.76999999999998, 'gini = 0.444\\nsamples = 3\\nvalue = [2, 1]\\nclass = 0'),\n",
       " Text(188.1627906976744, 40.76999999999998, 'gini = 0.043\\nsamples = 46\\nvalue = [45, 1]\\nclass = 0'),\n",
       " Text(246.5581395348837, 285.39000000000004, 'total_charges <= 311.4\\ngini = 0.375\\nsamples = 296\\nvalue = [222, 74]\\nclass = 0'),\n",
       " Text(220.6046511627907, 203.85000000000002, 'monthly_charges <= 29.475\\ngini = 0.461\\nsamples = 108\\nvalue = [69, 39]\\nclass = 0'),\n",
       " Text(207.62790697674419, 122.31000000000006, 'total_charges <= 96.775\\ngini = 0.328\\nsamples = 29\\nvalue = [23, 6]\\nclass = 0'),\n",
       " Text(201.13953488372093, 40.76999999999998, 'gini = 0.444\\nsamples = 3\\nvalue = [1, 2]\\nclass = 1'),\n",
       " Text(214.11627906976744, 40.76999999999998, 'gini = 0.26\\nsamples = 26\\nvalue = [22, 4]\\nclass = 0'),\n",
       " Text(233.58139534883722, 122.31000000000006, 'tenure <= 7.5\\ngini = 0.486\\nsamples = 79\\nvalue = [46, 33]\\nclass = 0'),\n",
       " Text(227.09302325581396, 40.76999999999998, 'gini = 0.473\\nsamples = 73\\nvalue = [45, 28]\\nclass = 0'),\n",
       " Text(240.06976744186048, 40.76999999999998, 'gini = 0.278\\nsamples = 6\\nvalue = [1, 5]\\nclass = 1'),\n",
       " Text(272.51162790697674, 203.85000000000002, 'dependents_encoded <= 0.5\\ngini = 0.303\\nsamples = 188\\nvalue = [153, 35]\\nclass = 0'),\n",
       " Text(259.5348837209302, 122.31000000000006, 'online_backup_Yes <= 0.5\\ngini = 0.373\\nsamples = 125\\nvalue = [94, 31]\\nclass = 0'),\n",
       " Text(253.04651162790697, 40.76999999999998, 'gini = 0.431\\nsamples = 89\\nvalue = [61, 28]\\nclass = 0'),\n",
       " Text(266.0232558139535, 40.76999999999998, 'gini = 0.153\\nsamples = 36\\nvalue = [33, 3]\\nclass = 0'),\n",
       " Text(285.48837209302326, 122.31000000000006, 'total_charges <= 524.675\\ngini = 0.119\\nsamples = 63\\nvalue = [59, 4]\\nclass = 0'),\n",
       " Text(279.0, 40.76999999999998, 'gini = 0.0\\nsamples = 31\\nvalue = [31, 0]\\nclass = 0'),\n",
       " Text(291.9767441860465, 40.76999999999998, 'gini = 0.219\\nsamples = 32\\nvalue = [28, 4]\\nclass = 0'),\n",
       " Text(416.87790697674416, 448.47, 'total_charges <= 124.475\\ngini = 0.414\\nsamples = 567\\nvalue = [166, 401]\\nclass = 1'),\n",
       " Text(353.6162790697674, 366.93, 'tech_support_Yes <= 0.5\\ngini = 0.203\\nsamples = 131\\nvalue = [15, 116]\\nclass = 1'),\n",
       " Text(330.90697674418607, 285.39000000000004, 'senior_citizen <= 0.5\\ngini = 0.174\\nsamples = 125\\nvalue = [12, 113]\\nclass = 1'),\n",
       " Text(324.4186046511628, 203.85000000000002, 'online_backup_Yes <= 0.5\\ngini = 0.229\\nsamples = 91\\nvalue = [12, 79]\\nclass = 1'),\n",
       " Text(311.4418604651163, 122.31000000000006, 'monthly_charges <= 69.85\\ngini = 0.195\\nsamples = 82\\nvalue = [9, 73]\\nclass = 1'),\n",
       " Text(304.95348837209303, 40.76999999999998, 'gini = 0.0\\nsamples = 13\\nvalue = [0, 13]\\nclass = 1'),\n",
       " Text(317.93023255813955, 40.76999999999998, 'gini = 0.227\\nsamples = 69\\nvalue = [9, 60]\\nclass = 1'),\n",
       " Text(337.3953488372093, 122.31000000000006, 'monthly_charges <= 74.525\\ngini = 0.444\\nsamples = 9\\nvalue = [3, 6]\\nclass = 1'),\n",
       " Text(330.90697674418607, 40.76999999999998, 'gini = 0.0\\nsamples = 1\\nvalue = [1, 0]\\nclass = 0'),\n",
       " Text(343.8837209302326, 40.76999999999998, 'gini = 0.375\\nsamples = 8\\nvalue = [2, 6]\\nclass = 1'),\n",
       " Text(337.3953488372093, 203.85000000000002, 'gini = 0.0\\nsamples = 34\\nvalue = [0, 34]\\nclass = 1'),\n",
       " Text(376.3255813953488, 285.39000000000004, 'streaming_movies_Yes <= 0.5\\ngini = 0.5\\nsamples = 6\\nvalue = [3, 3]\\nclass = 0'),\n",
       " Text(369.83720930232556, 203.85000000000002, 'streaming_tv_Yes <= 0.5\\ngini = 0.48\\nsamples = 5\\nvalue = [2, 3]\\nclass = 1'),\n",
       " Text(363.3488372093023, 122.31000000000006, 'payment_type_Electronic check <= 0.5\\ngini = 0.444\\nsamples = 3\\nvalue = [2, 1]\\nclass = 0'),\n",
       " Text(356.86046511627904, 40.76999999999998, 'gini = 0.0\\nsamples = 1\\nvalue = [1, 0]\\nclass = 0'),\n",
       " Text(369.83720930232556, 40.76999999999998, 'gini = 0.5\\nsamples = 2\\nvalue = [1, 1]\\nclass = 0'),\n",
       " Text(376.3255813953488, 122.31000000000006, 'gini = 0.0\\nsamples = 2\\nvalue = [0, 2]\\nclass = 1'),\n",
       " Text(382.8139534883721, 203.85000000000002, 'gini = 0.0\\nsamples = 1\\nvalue = [1, 0]\\nclass = 0'),\n",
       " Text(480.13953488372096, 366.93, 'monthly_charges <= 74.125\\ngini = 0.453\\nsamples = 436\\nvalue = [151, 285]\\nclass = 1'),\n",
       " Text(428.2325581395349, 285.39000000000004, 'total_charges <= 338.475\\ngini = 0.498\\nsamples = 73\\nvalue = [39, 34]\\nclass = 0'),\n",
       " Text(402.27906976744185, 203.85000000000002, 'gender_encoded <= 0.5\\ngini = 0.473\\nsamples = 39\\nvalue = [15, 24]\\nclass = 1'),\n",
       " Text(389.30232558139534, 122.31000000000006, 'monthly_charges <= 69.875\\ngini = 0.494\\nsamples = 18\\nvalue = [10, 8]\\nclass = 0'),\n",
       " Text(382.8139534883721, 40.76999999999998, 'gini = 0.32\\nsamples = 5\\nvalue = [1, 4]\\nclass = 1'),\n",
       " Text(395.7906976744186, 40.76999999999998, 'gini = 0.426\\nsamples = 13\\nvalue = [9, 4]\\nclass = 0'),\n",
       " Text(415.25581395348837, 122.31000000000006, 'total_charges <= 136.85\\ngini = 0.363\\nsamples = 21\\nvalue = [5, 16]\\nclass = 1'),\n",
       " Text(408.7674418604651, 40.76999999999998, 'gini = 0.0\\nsamples = 1\\nvalue = [1, 0]\\nclass = 0'),\n",
       " Text(421.74418604651163, 40.76999999999998, 'gini = 0.32\\nsamples = 20\\nvalue = [4, 16]\\nclass = 1'),\n",
       " Text(454.1860465116279, 203.85000000000002, 'paperless_billing_encoded <= 0.5\\ngini = 0.415\\nsamples = 34\\nvalue = [24, 10]\\nclass = 0'),\n",
       " Text(441.2093023255814, 122.31000000000006, 'tenure <= 14.5\\ngini = 0.165\\nsamples = 11\\nvalue = [10, 1]\\nclass = 0'),\n",
       " Text(434.72093023255815, 40.76999999999998, 'gini = 0.0\\nsamples = 10\\nvalue = [10, 0]\\nclass = 0'),\n",
       " Text(447.69767441860466, 40.76999999999998, 'gini = 0.0\\nsamples = 1\\nvalue = [0, 1]\\nclass = 1'),\n",
       " Text(467.16279069767444, 122.31000000000006, 'monthly_charges <= 73.075\\ngini = 0.476\\nsamples = 23\\nvalue = [14, 9]\\nclass = 0'),\n",
       " Text(460.6744186046512, 40.76999999999998, 'gini = 0.5\\nsamples = 18\\nvalue = [9, 9]\\nclass = 0'),\n",
       " Text(473.6511627906977, 40.76999999999998, 'gini = 0.0\\nsamples = 5\\nvalue = [5, 0]\\nclass = 0'),\n",
       " Text(532.046511627907, 285.39000000000004, 'online_security_Yes <= 0.5\\ngini = 0.427\\nsamples = 363\\nvalue = [112, 251]\\nclass = 1'),\n",
       " Text(506.09302325581393, 203.85000000000002, 'contract_type_One year <= 0.5\\ngini = 0.403\\nsamples = 318\\nvalue = [89, 229]\\nclass = 1'),\n",
       " Text(493.1162790697674, 122.31000000000006, 'payment_type_Credit card (automatic) <= 0.5\\ngini = 0.396\\nsamples = 313\\nvalue = [85, 228]\\nclass = 1'),\n",
       " Text(486.62790697674416, 40.76999999999998, 'gini = 0.375\\nsamples = 276\\nvalue = [69, 207]\\nclass = 1'),\n",
       " Text(499.6046511627907, 40.76999999999998, 'gini = 0.491\\nsamples = 37\\nvalue = [16, 21]\\nclass = 1'),\n",
       " Text(519.0697674418604, 122.31000000000006, 'total_charges <= 1040.7\\ngini = 0.32\\nsamples = 5\\nvalue = [4, 1]\\nclass = 0'),\n",
       " Text(512.5813953488372, 40.76999999999998, 'gini = 0.0\\nsamples = 3\\nvalue = [3, 0]\\nclass = 0'),\n",
       " Text(525.5581395348837, 40.76999999999998, 'gini = 0.5\\nsamples = 2\\nvalue = [1, 1]\\nclass = 0'),\n",
       " Text(558.0, 203.85000000000002, 'tenure <= 5.5\\ngini = 0.5\\nsamples = 45\\nvalue = [23, 22]\\nclass = 0'),\n",
       " Text(545.0232558139535, 122.31000000000006, 'tech_support_Yes <= 0.5\\ngini = 0.142\\nsamples = 13\\nvalue = [12, 1]\\nclass = 0'),\n",
       " Text(538.5348837209302, 40.76999999999998, 'gini = 0.0\\nsamples = 11\\nvalue = [11, 0]\\nclass = 0'),\n",
       " Text(551.5116279069767, 40.76999999999998, 'gini = 0.5\\nsamples = 2\\nvalue = [1, 1]\\nclass = 0'),\n",
       " Text(570.9767441860465, 122.31000000000006, 'monthly_charges <= 94.25\\ngini = 0.451\\nsamples = 32\\nvalue = [11, 21]\\nclass = 1'),\n",
       " Text(564.4883720930233, 40.76999999999998, 'gini = 0.49\\nsamples = 14\\nvalue = [8, 6]\\nclass = 0'),\n",
       " Text(577.4651162790698, 40.76999999999998, 'gini = 0.278\\nsamples = 18\\nvalue = [3, 15]\\nclass = 1'),\n",
       " Text(841.8662790697674, 530.01, 'internet_service_type_Fiber optic <= 0.5\\ngini = 0.267\\nsamples = 2566\\nvalue = [2158, 408]\\nclass = 0'),\n",
       " Text(702.3662790697674, 448.47, 'contract_type_Two year <= 0.5\\ngini = 0.099\\nsamples = 1411\\nvalue = [1337, 74]\\nclass = 0'),\n",
       " Text(629.3720930232558, 366.93, 'monthly_charges <= 24.875\\ngini = 0.155\\nsamples = 742\\nvalue = [679, 63]\\nclass = 0'),\n",
       " Text(596.9302325581396, 285.39000000000004, 'gender_encoded <= 0.5\\ngini = 0.03\\nsamples = 197\\nvalue = [194, 3]\\nclass = 0'),\n",
       " Text(590.4418604651163, 203.85000000000002, 'gini = 0.0\\nsamples = 97\\nvalue = [97, 0]\\nclass = 0'),\n",
       " Text(603.4186046511628, 203.85000000000002, 'tenure <= 31.5\\ngini = 0.058\\nsamples = 100\\nvalue = [97, 3]\\nclass = 0'),\n",
       " Text(596.9302325581396, 122.31000000000006, 'tenure <= 29.0\\ngini = 0.109\\nsamples = 52\\nvalue = [49, 3]\\nclass = 0'),\n",
       " Text(590.4418604651163, 40.76999999999998, 'gini = 0.039\\nsamples = 50\\nvalue = [49, 1]\\nclass = 0'),\n",
       " Text(603.4186046511628, 40.76999999999998, 'gini = 0.0\\nsamples = 2\\nvalue = [0, 2]\\nclass = 1'),\n",
       " Text(609.9069767441861, 122.31000000000006, 'gini = 0.0\\nsamples = 48\\nvalue = [48, 0]\\nclass = 0'),\n",
       " Text(661.8139534883721, 285.39000000000004, 'phone_service_encoded <= 0.5\\ngini = 0.196\\nsamples = 545\\nvalue = [485, 60]\\nclass = 0'),\n",
       " Text(635.8604651162791, 203.85000000000002, 'monthly_charges <= 53.875\\ngini = 0.287\\nsamples = 138\\nvalue = [114, 24]\\nclass = 0'),\n",
       " Text(622.8837209302326, 122.31000000000006, 'total_charges <= 976.075\\ngini = 0.234\\nsamples = 118\\nvalue = [102, 16]\\nclass = 0'),\n",
       " Text(616.3953488372093, 40.76999999999998, 'gini = 0.408\\nsamples = 28\\nvalue = [20, 8]\\nclass = 0'),\n",
       " Text(629.3720930232558, 40.76999999999998, 'gini = 0.162\\nsamples = 90\\nvalue = [82, 8]\\nclass = 0'),\n",
       " Text(648.8372093023256, 122.31000000000006, 'contract_type_One year <= 0.5\\ngini = 0.48\\nsamples = 20\\nvalue = [12, 8]\\nclass = 0'),\n",
       " Text(642.3488372093024, 40.76999999999998, 'gini = 0.375\\nsamples = 8\\nvalue = [2, 6]\\nclass = 1'),\n",
       " Text(655.3255813953489, 40.76999999999998, 'gini = 0.278\\nsamples = 12\\nvalue = [10, 2]\\nclass = 0'),\n",
       " Text(687.7674418604652, 203.85000000000002, 'total_charges <= 2203.375\\ngini = 0.161\\nsamples = 407\\nvalue = [371, 36]\\nclass = 0'),\n",
       " Text(674.7906976744187, 122.31000000000006, 'monthly_charges <= 25.325\\ngini = 0.121\\nsamples = 201\\nvalue = [188, 13]\\nclass = 0'),\n",
       " Text(668.3023255813954, 40.76999999999998, 'gini = 0.375\\nsamples = 8\\nvalue = [6, 2]\\nclass = 0'),\n",
       " Text(681.2790697674419, 40.76999999999998, 'gini = 0.107\\nsamples = 193\\nvalue = [182, 11]\\nclass = 0'),\n",
       " Text(700.7441860465116, 122.31000000000006, 'tenure <= 38.5\\ngini = 0.198\\nsamples = 206\\nvalue = [183, 23]\\nclass = 0'),\n",
       " Text(694.2558139534883, 40.76999999999998, 'gini = 0.391\\nsamples = 30\\nvalue = [22, 8]\\nclass = 0'),\n",
       " Text(707.2325581395348, 40.76999999999998, 'gini = 0.156\\nsamples = 176\\nvalue = [161, 15]\\nclass = 0'),\n",
       " Text(775.3604651162791, 366.93, 'senior_citizen <= 0.5\\ngini = 0.032\\nsamples = 669\\nvalue = [658, 11]\\nclass = 0'),\n",
       " Text(746.1627906976744, 285.39000000000004, 'payment_type_Electronic check <= 0.5\\ngini = 0.022\\nsamples = 632\\nvalue = [625, 7]\\nclass = 0'),\n",
       " Text(733.1860465116279, 203.85000000000002, 'tenure <= 65.5\\ngini = 0.017\\nsamples = 594\\nvalue = [589, 5]\\nclass = 0'),\n",
       " Text(726.6976744186046, 122.31000000000006, 'payment_type_Mailed check <= 0.5\\ngini = 0.029\\nsamples = 334\\nvalue = [329, 5]\\nclass = 0'),\n",
       " Text(720.2093023255813, 40.76999999999998, 'gini = 0.049\\nsamples = 199\\nvalue = [194, 5]\\nclass = 0'),\n",
       " Text(733.1860465116279, 40.76999999999998, 'gini = 0.0\\nsamples = 135\\nvalue = [135, 0]\\nclass = 0'),\n",
       " Text(739.6744186046511, 122.31000000000006, 'gini = 0.0\\nsamples = 260\\nvalue = [260, 0]\\nclass = 0'),\n",
       " Text(759.1395348837209, 203.85000000000002, 'tenure <= 66.5\\ngini = 0.1\\nsamples = 38\\nvalue = [36, 2]\\nclass = 0'),\n",
       " Text(752.6511627906976, 122.31000000000006, 'gini = 0.0\\nsamples = 21\\nvalue = [21, 0]\\nclass = 0'),\n",
       " Text(765.6279069767442, 122.31000000000006, 'tech_support_Yes <= 0.5\\ngini = 0.208\\nsamples = 17\\nvalue = [15, 2]\\nclass = 0'),\n",
       " Text(759.1395348837209, 40.76999999999998, 'gini = 0.408\\nsamples = 7\\nvalue = [5, 2]\\nclass = 0'),\n",
       " Text(772.1162790697674, 40.76999999999998, 'gini = 0.0\\nsamples = 10\\nvalue = [10, 0]\\nclass = 0'),\n",
       " Text(804.5581395348837, 285.39000000000004, 'monthly_charges <= 92.325\\ngini = 0.193\\nsamples = 37\\nvalue = [33, 4]\\nclass = 0'),\n",
       " Text(798.0697674418604, 203.85000000000002, 'tenure <= 66.5\\ngini = 0.153\\nsamples = 36\\nvalue = [33, 3]\\nclass = 0'),\n",
       " Text(791.5813953488372, 122.31000000000006, 'total_charges <= 4459.6\\ngini = 0.32\\nsamples = 15\\nvalue = [12, 3]\\nclass = 0'),\n",
       " Text(785.0930232558139, 40.76999999999998, 'gini = 0.0\\nsamples = 11\\nvalue = [11, 0]\\nclass = 0'),\n",
       " Text(798.0697674418604, 40.76999999999998, 'gini = 0.375\\nsamples = 4\\nvalue = [1, 3]\\nclass = 1'),\n",
       " Text(804.5581395348837, 122.31000000000006, 'gini = 0.0\\nsamples = 21\\nvalue = [21, 0]\\nclass = 0'),\n",
       " Text(811.046511627907, 203.85000000000002, 'gini = 0.0\\nsamples = 1\\nvalue = [0, 1]\\nclass = 1'),\n",
       " Text(981.3662790697674, 448.47, 'tenure <= 49.5\\ngini = 0.411\\nsamples = 1155\\nvalue = [821, 334]\\nclass = 0'),\n",
       " Text(903.5058139534883, 366.93, 'contract_type_One year <= 0.5\\ngini = 0.484\\nsamples = 597\\nvalue = [352, 245]\\nclass = 0'),\n",
       " Text(856.4651162790698, 285.39000000000004, 'contract_type_Two year <= 0.5\\ngini = 0.495\\nsamples = 493\\nvalue = [270, 223]\\nclass = 0'),\n",
       " Text(830.5116279069767, 203.85000000000002, 'payment_type_Electronic check <= 0.5\\ngini = 0.498\\nsamples = 470\\nvalue = [250, 220]\\nclass = 0'),\n",
       " Text(817.5348837209302, 122.31000000000006, 'senior_citizen <= 0.5\\ngini = 0.481\\nsamples = 223\\nvalue = [133, 90]\\nclass = 0'),\n",
       " Text(811.046511627907, 40.76999999999998, 'gini = 0.446\\nsamples = 161\\nvalue = [107, 54]\\nclass = 0'),\n",
       " Text(824.0232558139535, 40.76999999999998, 'gini = 0.487\\nsamples = 62\\nvalue = [26, 36]\\nclass = 1'),\n",
       " Text(843.4883720930233, 122.31000000000006, 'total_charges <= 4880.825\\ngini = 0.499\\nsamples = 247\\nvalue = [117, 130]\\nclass = 1'),\n",
       " Text(837.0, 40.76999999999998, 'gini = 0.497\\nsamples = 239\\nvalue = [110, 129]\\nclass = 1'),\n",
       " Text(849.9767441860465, 40.76999999999998, 'gini = 0.219\\nsamples = 8\\nvalue = [7, 1]\\nclass = 0'),\n",
       " Text(882.4186046511628, 203.85000000000002, 'streaming_movies_Yes <= 0.5\\ngini = 0.227\\nsamples = 23\\nvalue = [20, 3]\\nclass = 0'),\n",
       " Text(869.4418604651163, 122.31000000000006, 'paperless_billing_encoded <= 0.5\\ngini = 0.444\\nsamples = 3\\nvalue = [1, 2]\\nclass = 1'),\n",
       " Text(862.953488372093, 40.76999999999998, 'gini = 0.0\\nsamples = 1\\nvalue = [1, 0]\\nclass = 0'),\n",
       " Text(875.9302325581396, 40.76999999999998, 'gini = 0.0\\nsamples = 2\\nvalue = [0, 2]\\nclass = 1'),\n",
       " Text(895.3953488372093, 122.31000000000006, 'total_charges <= 5180.325\\ngini = 0.095\\nsamples = 20\\nvalue = [19, 1]\\nclass = 0'),\n",
       " Text(888.9069767441861, 40.76999999999998, 'gini = 0.0\\nsamples = 19\\nvalue = [19, 0]\\nclass = 0'),\n",
       " Text(901.8837209302326, 40.76999999999998, 'gini = 0.0\\nsamples = 1\\nvalue = [0, 1]\\nclass = 1'),\n",
       " Text(950.546511627907, 285.39000000000004, 'total_charges <= 5034.9\\ngini = 0.334\\nsamples = 104\\nvalue = [82, 22]\\nclass = 0'),\n",
       " Text(934.3255813953489, 203.85000000000002, 'payment_type_Electronic check <= 0.5\\ngini = 0.31\\nsamples = 99\\nvalue = [80, 19]\\nclass = 0'),\n",
       " Text(921.3488372093024, 122.31000000000006, 'tenure <= 48.5\\ngini = 0.185\\nsamples = 58\\nvalue = [52, 6]\\nclass = 0'),\n",
       " Text(914.8604651162791, 40.76999999999998, 'gini = 0.16\\nsamples = 57\\nvalue = [52, 5]\\nclass = 0'),\n",
       " Text(927.8372093023256, 40.76999999999998, 'gini = 0.0\\nsamples = 1\\nvalue = [0, 1]\\nclass = 1'),\n",
       " Text(947.3023255813954, 122.31000000000006, 'tenure <= 43.5\\ngini = 0.433\\nsamples = 41\\nvalue = [28, 13]\\nclass = 0'),\n",
       " Text(940.8139534883721, 40.76999999999998, 'gini = 0.497\\nsamples = 28\\nvalue = [15, 13]\\nclass = 0'),\n",
       " Text(953.7906976744187, 40.76999999999998, 'gini = 0.0\\nsamples = 13\\nvalue = [13, 0]\\nclass = 0'),\n",
       " Text(966.7674418604652, 203.85000000000002, 'total_charges <= 5117.925\\ngini = 0.48\\nsamples = 5\\nvalue = [2, 3]\\nclass = 1'),\n",
       " Text(960.2790697674419, 122.31000000000006, 'gini = 0.0\\nsamples = 2\\nvalue = [0, 2]\\nclass = 1'),\n",
       " Text(973.2558139534883, 122.31000000000006, 'payment_type_Credit card (automatic) <= 0.5\\ngini = 0.444\\nsamples = 3\\nvalue = [2, 1]\\nclass = 0'),\n",
       " Text(966.7674418604652, 40.76999999999998, 'gini = 0.0\\nsamples = 2\\nvalue = [2, 0]\\nclass = 0'),\n",
       " Text(979.7441860465116, 40.76999999999998, 'gini = 0.0\\nsamples = 1\\nvalue = [0, 1]\\nclass = 1'),\n",
       " Text(1059.2267441860465, 366.93, 'contract_type_Two year <= 0.5\\ngini = 0.268\\nsamples = 558\\nvalue = [469, 89]\\nclass = 0'),\n",
       " Text(1021.9186046511628, 285.39000000000004, 'total_charges <= 4259.05\\ngini = 0.342\\nsamples = 333\\nvalue = [260, 73]\\nclass = 0'),\n",
       " Text(1005.6976744186046, 203.85000000000002, 'total_charges <= 4055.7\\ngini = 0.494\\nsamples = 9\\nvalue = [4, 5]\\nclass = 1'),\n",
       " Text(999.2093023255813, 122.31000000000006, 'total_charges <= 3863.25\\ngini = 0.32\\nsamples = 5\\nvalue = [4, 1]\\nclass = 0'),\n",
       " Text(992.7209302325581, 40.76999999999998, 'gini = 0.0\\nsamples = 1\\nvalue = [0, 1]\\nclass = 1'),\n",
       " Text(1005.6976744186046, 40.76999999999998, 'gini = 0.0\\nsamples = 4\\nvalue = [4, 0]\\nclass = 0'),\n",
       " Text(1012.1860465116279, 122.31000000000006, 'gini = 0.0\\nsamples = 4\\nvalue = [0, 4]\\nclass = 1'),\n",
       " Text(1038.139534883721, 203.85000000000002, 'monthly_charges <= 96.325\\ngini = 0.332\\nsamples = 324\\nvalue = [256, 68]\\nclass = 0'),\n",
       " Text(1025.1627906976744, 122.31000000000006, 'streaming_movies_Yes <= 0.5\\ngini = 0.222\\nsamples = 118\\nvalue = [103, 15]\\nclass = 0'),\n",
       " Text(1018.6744186046511, 40.76999999999998, 'gini = 0.151\\nsamples = 73\\nvalue = [67, 6]\\nclass = 0'),\n",
       " Text(1031.6511627906978, 40.76999999999998, 'gini = 0.32\\nsamples = 45\\nvalue = [36, 9]\\nclass = 0'),\n",
       " Text(1051.1162790697674, 122.31000000000006, 'monthly_charges <= 96.8\\ngini = 0.382\\nsamples = 206\\nvalue = [153, 53]\\nclass = 0'),\n",
       " Text(1044.6279069767443, 40.76999999999998, 'gini = 0.0\\nsamples = 3\\nvalue = [0, 3]\\nclass = 1'),\n",
       " Text(1057.6046511627908, 40.76999999999998, 'gini = 0.371\\nsamples = 203\\nvalue = [153, 50]\\nclass = 0'),\n",
       " Text(1096.5348837209303, 285.39000000000004, 'total_charges <= 7759.775\\ngini = 0.132\\nsamples = 225\\nvalue = [209, 16]\\nclass = 0'),\n",
       " Text(1090.046511627907, 203.85000000000002, 'total_charges <= 7677.875\\ngini = 0.179\\nsamples = 161\\nvalue = [145, 16]\\nclass = 0'),\n",
       " Text(1077.0697674418604, 122.31000000000006, 'monthly_charges <= 106.425\\ngini = 0.144\\nsamples = 154\\nvalue = [142, 12]\\nclass = 0'),\n",
       " Text(1070.5813953488373, 40.76999999999998, 'gini = 0.067\\nsamples = 116\\nvalue = [112, 4]\\nclass = 0'),\n",
       " Text(1083.5581395348838, 40.76999999999998, 'gini = 0.332\\nsamples = 38\\nvalue = [30, 8]\\nclass = 0'),\n",
       " Text(1103.0232558139535, 122.31000000000006, 'payment_type_Electronic check <= 0.5\\ngini = 0.49\\nsamples = 7\\nvalue = [3, 4]\\nclass = 1'),\n",
       " Text(1096.5348837209303, 40.76999999999998, 'gini = 0.0\\nsamples = 4\\nvalue = [0, 4]\\nclass = 1'),\n",
       " Text(1109.5116279069766, 40.76999999999998, 'gini = 0.0\\nsamples = 3\\nvalue = [3, 0]\\nclass = 0'),\n",
       " Text(1103.0232558139535, 203.85000000000002, 'gini = 0.0\\nsamples = 64\\nvalue = [64, 0]\\nclass = 0')]"
      ]
     },
     "execution_count": 66,
     "metadata": {},
     "output_type": "execute_result"
    },
    {
     "data": {
      "image/png": "[encoded data removed]",
      "text/plain": [
       "<Figure size 1440x864 with 1 Axes>"
      ]
     },
     "metadata": {
      "needs_background": "light"
     },
     "output_type": "display_data"
    }
   ],
   "source": [
    "clf = DecisionTreeClassifier(max_depth=7, random_state=123)\n",
    "clf = clf.fit(X_train, y_train)\n",
    "plt.figure(figsize=(20, 12))\n",
    "plot_tree(clf, feature_names=X_train.columns, class_names=clf.classes_.astype(str), rounded=True)"
   ]
  },
  {
   "cell_type": "code",
   "execution_count": 67,
   "id": "296bcf2e",
   "metadata": {},
   "outputs": [
    {
     "name": "stdout",
     "output_type": "stream",
     "text": [
      "Accuracy of Decision Tree classifier on training set: 0.83\n"
     ]
    }
   ],
   "source": [
    "y_pred = clf.predict(X_train)\n",
    "y_pred[0:5]\n",
    "print('Accuracy of Decision Tree classifier on training set: {:.2f}'\n",
    "      .format(clf.score(X_train, y_train)))"
   ]
  },
  {
   "cell_type": "code",
   "execution_count": 68,
   "id": "eb2be0a9",
   "metadata": {},
   "outputs": [
    {
     "data": {
      "text/html": [
       "<div>\n",
       "<style scoped>\n",
       "    .dataframe tbody tr th:only-of-type {\n",
       "        vertical-align: middle;\n",
       "    }\n",
       "\n",
       "    .dataframe tbody tr th {\n",
       "        vertical-align: top;\n",
       "    }\n",
       "\n",
       "    .dataframe thead th {\n",
       "        text-align: right;\n",
       "    }\n",
       "</style>\n",
       "<table border=\"1\" class=\"dataframe\">\n",
       "  <thead>\n",
       "    <tr style=\"text-align: right;\">\n",
       "      <th></th>\n",
       "      <th>0</th>\n",
       "      <th>1</th>\n",
       "    </tr>\n",
       "  </thead>\n",
       "  <tbody>\n",
       "    <tr>\n",
       "      <th>0</th>\n",
       "      <td>2578</td>\n",
       "      <td>313</td>\n",
       "    </tr>\n",
       "    <tr>\n",
       "      <th>1</th>\n",
       "      <td>349</td>\n",
       "      <td>697</td>\n",
       "    </tr>\n",
       "  </tbody>\n",
       "</table>\n",
       "</div>"
      ],
      "text/plain": [
       "      0    1\n",
       "0  2578  313\n",
       "1   349  697"
      ]
     },
     "execution_count": 68,
     "metadata": {},
     "output_type": "execute_result"
    }
   ],
   "source": [
    "confusion_matrix(y_train, y_pred)\n",
    "y_train.value_counts()\n",
    "labels = sorted(y_train.unique())\n",
    "\n",
    "pd.DataFrame(confusion_matrix(y_train, y_pred), index=labels, columns=labels)"
   ]
  },
  {
   "cell_type": "code",
   "execution_count": 69,
   "id": "5356b584",
   "metadata": {},
   "outputs": [
    {
     "name": "stdout",
     "output_type": "stream",
     "text": [
      "              precision    recall  f1-score   support\n",
      "\n",
      "           0       0.88      0.89      0.89      2891\n",
      "           1       0.69      0.67      0.68      1046\n",
      "\n",
      "    accuracy                           0.83      3937\n",
      "   macro avg       0.79      0.78      0.78      3937\n",
      "weighted avg       0.83      0.83      0.83      3937\n",
      "\n"
     ]
    }
   ],
   "source": [
    "print(classification_report(y_train, y_pred))"
   ]
  },
  {
   "cell_type": "markdown",
   "id": "f4b3fd16",
   "metadata": {},
   "source": [
    "# Questions"
   ]
  },
  {
   "cell_type": "markdown",
   "id": "84bb933b",
   "metadata": {},
   "source": [
    "How do you know when a model is overfitted or underfitted? "
   ]
  },
  {
   "cell_type": "markdown",
   "id": "b868779a",
   "metadata": {},
   "source": [
    "Why aren't decision trees used in the exploratory process? "
   ]
  },
  {
   "cell_type": "markdown",
   "id": "9ae5a371",
   "metadata": {},
   "source": [
    "When you have a decision tree with considerable branches, what is the easiest way to read it? "
   ]
  },
  {
   "cell_type": "markdown",
   "id": "557cd0ee",
   "metadata": {},
   "source": [
    "# Random Forest - Telco"
   ]
  },
  {
   "cell_type": "markdown",
   "id": "1489b039",
   "metadata": {},
   "source": [
    "### Train Model "
   ]
  },
  {
   "cell_type": "markdown",
   "id": "bc067856",
   "metadata": {},
   "source": [
    "Create the object "
   ]
  },
  {
   "cell_type": "code",
   "execution_count": 70,
   "id": "ba5fce39",
   "metadata": {},
   "outputs": [],
   "source": [
    "from sklearn.model_selection import train_test_split\n",
    "from sklearn.ensemble import RandomForestClassifier\n",
    "from sklearn.metrics import classification_report\n",
    "from sklearn.metrics import confusion_matrix"
   ]
  },
  {
   "cell_type": "code",
   "execution_count": 71,
   "id": "287496b7",
   "metadata": {},
   "outputs": [],
   "source": [
    "rf = RandomForestClassifier(bootstrap=True, \n",
    "                            class_weight=None, \n",
    "                            criterion='gini',\n",
    "                            min_samples_leaf=3,\n",
    "                            n_estimators=100,\n",
    "                            max_depth=3, \n",
    "                            random_state=123)"
   ]
  },
  {
   "cell_type": "markdown",
   "id": "4996128c",
   "metadata": {},
   "source": [
    "Fit the model "
   ]
  },
  {
   "cell_type": "code",
   "execution_count": 72,
   "id": "854cc5fe",
   "metadata": {},
   "outputs": [
    {
     "data": {
      "text/plain": [
       "RandomForestClassifier(max_depth=3, min_samples_leaf=3, random_state=123)"
      ]
     },
     "execution_count": 72,
     "metadata": {},
     "output_type": "execute_result"
    }
   ],
   "source": [
    "rf.fit(X_train, y_train)"
   ]
  },
  {
   "cell_type": "markdown",
   "id": "5f409cb5",
   "metadata": {},
   "source": [
    "Feature Importance"
   ]
  },
  {
   "cell_type": "code",
   "execution_count": 73,
   "id": "fe364c8a",
   "metadata": {},
   "outputs": [
    {
     "name": "stdout",
     "output_type": "stream",
     "text": [
      "[4.37448284e-03 2.01664878e-01 8.48587812e-02 1.19757935e-01\n",
      " 9.48877313e-05 3.48510659e-03 2.90054625e-03 9.47663424e-04\n",
      " 6.51668044e-03 4.41422396e-04 1.26612716e-04 3.42427626e-02\n",
      " 2.08739446e-02 2.12318277e-02 8.25721848e-03 1.63935892e-02\n",
      " 5.34174454e-03 4.61404428e-02 1.69019665e-02 2.23569501e-02\n",
      " 1.63671046e-03 1.45120451e-02 1.10310774e-03 2.44821215e-02\n",
      " 1.12284262e-01 1.32588184e-01 1.21888612e-02 5.95301874e-04\n",
      " 8.31490957e-02 5.50867497e-04]\n"
     ]
    }
   ],
   "source": [
    "print(rf.feature_importances_)"
   ]
  },
  {
   "cell_type": "code",
   "execution_count": 74,
   "id": "f2a67b40",
   "metadata": {},
   "outputs": [
    {
     "data": {
      "text/plain": [
       "Index(['tenure', 'internet_service_type_Fiber optic', 'total_charges',\n",
       "       'contract_type_Two year', 'monthly_charges',\n",
       "       'payment_type_Electronic check', 'tech_support_No internet service',\n",
       "       'online_security_No internet service', 'contract_type_One year',\n",
       "       'streaming_tv_No internet service', 'online_backup_No internet service',\n",
       "       'online_security_Yes', 'tech_support_Yes',\n",
       "       'device_protection_No internet service',\n",
       "       'streaming_movies_No internet service', 'internet_service_type_None',\n",
       "       'online_backup_Yes', 'paperless_billing_encoded',\n",
       "       'device_protection_Yes', 'senior_citizen', 'partner_encoded',\n",
       "       'dependents_encoded', 'streaming_tv_Yes', 'streaming_movies_Yes',\n",
       "       'phone_service_encoded', 'payment_type_Credit card (automatic)',\n",
       "       'payment_type_Mailed check', 'multiple_lines_No phone service',\n",
       "       'multiple_lines_Yes', 'gender_encoded'],\n",
       "      dtype='object')"
      ]
     },
     "execution_count": 74,
     "metadata": {},
     "output_type": "execute_result"
    }
   ],
   "source": [
    "## Feature importance in descending order\n",
    "X_train.columns[rf.feature_importances_.argsort()[::-1]]"
   ]
  },
  {
   "cell_type": "markdown",
   "id": "f2dd98fe",
   "metadata": {},
   "source": [
    "Make Predictions"
   ]
  },
  {
   "cell_type": "code",
   "execution_count": 75,
   "id": "e0f238e7",
   "metadata": {},
   "outputs": [],
   "source": [
    "y_pred = rf.predict(X_train)"
   ]
  },
  {
   "cell_type": "markdown",
   "id": "067dad8a",
   "metadata": {},
   "source": [
    "Estimate Probability"
   ]
  },
  {
   "cell_type": "code",
   "execution_count": 76,
   "id": "163da151",
   "metadata": {},
   "outputs": [],
   "source": [
    "y_pred_proba = rf.predict_proba(X_train)"
   ]
  },
  {
   "cell_type": "markdown",
   "id": "d45678fe",
   "metadata": {},
   "source": [
    "Compute the Accuracy"
   ]
  },
  {
   "cell_type": "code",
   "execution_count": 77,
   "id": "d54d95a5",
   "metadata": {},
   "outputs": [
    {
     "name": "stdout",
     "output_type": "stream",
     "text": [
      "Accuracy of random forest classifier on training set: 0.79\n"
     ]
    }
   ],
   "source": [
    "print('Accuracy of random forest classifier on training set: {:.2f}'\n",
    "     .format(rf.score(X_train, y_train)))"
   ]
  },
  {
   "cell_type": "code",
   "execution_count": 78,
   "id": "493f89af",
   "metadata": {},
   "outputs": [
    {
     "name": "stdout",
     "output_type": "stream",
     "text": [
      "[[2780  111]\n",
      " [ 718  328]]\n"
     ]
    },
    {
     "data": {
      "text/html": [
       "<div>\n",
       "<style scoped>\n",
       "    .dataframe tbody tr th:only-of-type {\n",
       "        vertical-align: middle;\n",
       "    }\n",
       "\n",
       "    .dataframe tbody tr th {\n",
       "        vertical-align: top;\n",
       "    }\n",
       "\n",
       "    .dataframe thead th {\n",
       "        text-align: right;\n",
       "    }\n",
       "</style>\n",
       "<table border=\"1\" class=\"dataframe\">\n",
       "  <thead>\n",
       "    <tr style=\"text-align: right;\">\n",
       "      <th></th>\n",
       "      <th>0</th>\n",
       "      <th>1</th>\n",
       "    </tr>\n",
       "  </thead>\n",
       "  <tbody>\n",
       "    <tr>\n",
       "      <th>0</th>\n",
       "      <td>2780</td>\n",
       "      <td>111</td>\n",
       "    </tr>\n",
       "    <tr>\n",
       "      <th>1</th>\n",
       "      <td>718</td>\n",
       "      <td>328</td>\n",
       "    </tr>\n",
       "  </tbody>\n",
       "</table>\n",
       "</div>"
      ],
      "text/plain": [
       "      0    1\n",
       "0  2780  111\n",
       "1   718  328"
      ]
     },
     "execution_count": 78,
     "metadata": {},
     "output_type": "execute_result"
    }
   ],
   "source": [
    "print(confusion_matrix(y_train, y_pred))\n",
    "y_train.value_counts()\n",
    "labels = sorted(y_train.unique())\n",
    "\n",
    "pd.DataFrame(confusion_matrix(y_train, y_pred), index=labels, columns=labels)"
   ]
  },
  {
   "cell_type": "code",
   "execution_count": 79,
   "id": "6f756640",
   "metadata": {},
   "outputs": [
    {
     "name": "stdout",
     "output_type": "stream",
     "text": [
      "              precision    recall  f1-score   support\n",
      "\n",
      "           0       0.79      0.96      0.87      2891\n",
      "           1       0.75      0.31      0.44      1046\n",
      "\n",
      "    accuracy                           0.79      3937\n",
      "   macro avg       0.77      0.64      0.66      3937\n",
      "weighted avg       0.78      0.79      0.76      3937\n",
      "\n"
     ]
    }
   ],
   "source": [
    "print(classification_report(y_train, y_pred))"
   ]
  },
  {
   "cell_type": "markdown",
   "id": "04aef9bb",
   "metadata": {},
   "source": [
    "### Validate the Model "
   ]
  },
  {
   "cell_type": "code",
   "execution_count": 80,
   "id": "a51874c4",
   "metadata": {},
   "outputs": [
    {
     "name": "stdout",
     "output_type": "stream",
     "text": [
      "Accuracy of random forest classifier on test set: 0.77\n"
     ]
    }
   ],
   "source": [
    "print('Accuracy of random forest classifier on test set: {:.2f}'\n",
    "     .format(rf.score(X_validate, y_validate)))"
   ]
  },
  {
   "cell_type": "markdown",
   "id": "42a9723b",
   "metadata": {},
   "source": [
    "# Random Forest Titanic"
   ]
  },
  {
   "cell_type": "code",
   "execution_count": 81,
   "id": "315637ef",
   "metadata": {},
   "outputs": [
    {
     "name": "stdout",
     "output_type": "stream",
     "text": [
      "Using cached csv\n"
     ]
    },
    {
     "data": {
      "text/html": [
       "<div>\n",
       "<style scoped>\n",
       "    .dataframe tbody tr th:only-of-type {\n",
       "        vertical-align: middle;\n",
       "    }\n",
       "\n",
       "    .dataframe tbody tr th {\n",
       "        vertical-align: top;\n",
       "    }\n",
       "\n",
       "    .dataframe thead th {\n",
       "        text-align: right;\n",
       "    }\n",
       "</style>\n",
       "<table border=\"1\" class=\"dataframe\">\n",
       "  <thead>\n",
       "    <tr style=\"text-align: right;\">\n",
       "      <th></th>\n",
       "      <th>passenger_id</th>\n",
       "      <th>survived</th>\n",
       "      <th>pclass</th>\n",
       "      <th>sex</th>\n",
       "      <th>age</th>\n",
       "      <th>sibsp</th>\n",
       "      <th>parch</th>\n",
       "      <th>fare</th>\n",
       "      <th>embarked</th>\n",
       "      <th>class</th>\n",
       "      <th>deck</th>\n",
       "      <th>embark_town</th>\n",
       "      <th>alone</th>\n",
       "    </tr>\n",
       "  </thead>\n",
       "  <tbody>\n",
       "    <tr>\n",
       "      <th>0</th>\n",
       "      <td>0</td>\n",
       "      <td>0</td>\n",
       "      <td>3</td>\n",
       "      <td>male</td>\n",
       "      <td>22.0</td>\n",
       "      <td>1</td>\n",
       "      <td>0</td>\n",
       "      <td>7.2500</td>\n",
       "      <td>S</td>\n",
       "      <td>Third</td>\n",
       "      <td>NaN</td>\n",
       "      <td>Southampton</td>\n",
       "      <td>0</td>\n",
       "    </tr>\n",
       "    <tr>\n",
       "      <th>1</th>\n",
       "      <td>1</td>\n",
       "      <td>1</td>\n",
       "      <td>1</td>\n",
       "      <td>female</td>\n",
       "      <td>38.0</td>\n",
       "      <td>1</td>\n",
       "      <td>0</td>\n",
       "      <td>71.2833</td>\n",
       "      <td>C</td>\n",
       "      <td>First</td>\n",
       "      <td>C</td>\n",
       "      <td>Cherbourg</td>\n",
       "      <td>0</td>\n",
       "    </tr>\n",
       "    <tr>\n",
       "      <th>2</th>\n",
       "      <td>2</td>\n",
       "      <td>1</td>\n",
       "      <td>3</td>\n",
       "      <td>female</td>\n",
       "      <td>26.0</td>\n",
       "      <td>0</td>\n",
       "      <td>0</td>\n",
       "      <td>7.9250</td>\n",
       "      <td>S</td>\n",
       "      <td>Third</td>\n",
       "      <td>NaN</td>\n",
       "      <td>Southampton</td>\n",
       "      <td>1</td>\n",
       "    </tr>\n",
       "  </tbody>\n",
       "</table>\n",
       "</div>"
      ],
      "text/plain": [
       "   passenger_id  survived  pclass     sex   age  sibsp  parch     fare  \\\n",
       "0             0         0       3    male  22.0      1      0   7.2500   \n",
       "1             1         1       1  female  38.0      1      0  71.2833   \n",
       "2             2         1       3  female  26.0      0      0   7.9250   \n",
       "\n",
       "  embarked  class deck  embark_town  alone  \n",
       "0        S  Third  NaN  Southampton      0  \n",
       "1        C  First    C    Cherbourg      0  \n",
       "2        S  Third  NaN  Southampton      1  "
      ]
     },
     "execution_count": 81,
     "metadata": {},
     "output_type": "execute_result"
    }
   ],
   "source": [
    "df = acquire.get_titanic_data()\n",
    "df.head(3)"
   ]
  },
  {
   "cell_type": "code",
   "execution_count": 82,
   "id": "f56a35f2",
   "metadata": {},
   "outputs": [],
   "source": [
    "titanic_df = prepare.prep_titanic_data(df)"
   ]
  },
  {
   "cell_type": "code",
   "execution_count": 83,
   "id": "cb669eca",
   "metadata": {},
   "outputs": [],
   "source": [
    "train, validate, test = titanic_df"
   ]
  },
  {
   "cell_type": "code",
   "execution_count": 84,
   "id": "a2e2429a",
   "metadata": {},
   "outputs": [],
   "source": [
    "X_train = train.drop(columns=['survived'])\n",
    "y_train = train.survived \n",
    "\n",
    "X_validate = validate.drop(columns=['survived'])\n",
    "y_validate = validate.survived\n",
    "\n",
    "X_test = test.drop(columns=['survived'])\n",
    "y_test = test.survived"
   ]
  },
  {
   "cell_type": "code",
   "execution_count": 85,
   "id": "7fd7397a",
   "metadata": {},
   "outputs": [],
   "source": [
    "cols_to_drop = ['sex', 'embark_town']\n",
    "X_train = X_train.drop(columns=cols_to_drop)"
   ]
  },
  {
   "cell_type": "code",
   "execution_count": 86,
   "id": "7729430a",
   "metadata": {},
   "outputs": [],
   "source": [
    "\n",
    "cols_to_drop = ['sex', 'embark_town']\n",
    "X_validate = X_validate.drop(columns=cols_to_drop)"
   ]
  },
  {
   "cell_type": "code",
   "execution_count": 87,
   "id": "2ead75cd",
   "metadata": {},
   "outputs": [
    {
     "data": {
      "text/html": [
       "<div>\n",
       "<style scoped>\n",
       "    .dataframe tbody tr th:only-of-type {\n",
       "        vertical-align: middle;\n",
       "    }\n",
       "\n",
       "    .dataframe tbody tr th {\n",
       "        vertical-align: top;\n",
       "    }\n",
       "\n",
       "    .dataframe thead th {\n",
       "        text-align: right;\n",
       "    }\n",
       "</style>\n",
       "<table border=\"1\" class=\"dataframe\">\n",
       "  <thead>\n",
       "    <tr style=\"text-align: right;\">\n",
       "      <th></th>\n",
       "      <th>passenger_id</th>\n",
       "      <th>pclass</th>\n",
       "      <th>age</th>\n",
       "      <th>sibsp</th>\n",
       "      <th>parch</th>\n",
       "      <th>fare</th>\n",
       "      <th>alone</th>\n",
       "      <th>sex_male</th>\n",
       "      <th>embark_town_Queenstown</th>\n",
       "      <th>embark_town_Southampton</th>\n",
       "    </tr>\n",
       "  </thead>\n",
       "  <tbody>\n",
       "    <tr>\n",
       "      <th>583</th>\n",
       "      <td>583</td>\n",
       "      <td>1</td>\n",
       "      <td>36.0</td>\n",
       "      <td>0</td>\n",
       "      <td>0</td>\n",
       "      <td>40.1250</td>\n",
       "      <td>1</td>\n",
       "      <td>1</td>\n",
       "      <td>0</td>\n",
       "      <td>0</td>\n",
       "    </tr>\n",
       "    <tr>\n",
       "      <th>165</th>\n",
       "      <td>165</td>\n",
       "      <td>3</td>\n",
       "      <td>9.0</td>\n",
       "      <td>0</td>\n",
       "      <td>2</td>\n",
       "      <td>20.5250</td>\n",
       "      <td>0</td>\n",
       "      <td>1</td>\n",
       "      <td>0</td>\n",
       "      <td>1</td>\n",
       "    </tr>\n",
       "    <tr>\n",
       "      <th>50</th>\n",
       "      <td>50</td>\n",
       "      <td>3</td>\n",
       "      <td>7.0</td>\n",
       "      <td>4</td>\n",
       "      <td>1</td>\n",
       "      <td>39.6875</td>\n",
       "      <td>0</td>\n",
       "      <td>1</td>\n",
       "      <td>0</td>\n",
       "      <td>1</td>\n",
       "    </tr>\n",
       "  </tbody>\n",
       "</table>\n",
       "</div>"
      ],
      "text/plain": [
       "     passenger_id  pclass   age  sibsp  parch     fare  alone  sex_male  \\\n",
       "583           583       1  36.0      0      0  40.1250      1         1   \n",
       "165           165       3   9.0      0      2  20.5250      0         1   \n",
       "50             50       3   7.0      4      1  39.6875      0         1   \n",
       "\n",
       "     embark_town_Queenstown  embark_town_Southampton  \n",
       "583                       0                        0  \n",
       "165                       0                        1  \n",
       "50                        0                        1  "
      ]
     },
     "execution_count": 87,
     "metadata": {},
     "output_type": "execute_result"
    }
   ],
   "source": [
    "X_train.head(3)"
   ]
  },
  {
   "cell_type": "code",
   "execution_count": 105,
   "id": "ff8811c3",
   "metadata": {},
   "outputs": [],
   "source": [
    "#Create the object \n",
    "af = RandomForestClassifier(bootstrap=True, \n",
    "                            class_weight=None, \n",
    "                            criterion='gini',\n",
    "                            min_samples_leaf=1,\n",
    "                            n_estimators=100,\n",
    "                            max_depth=10, \n",
    "                            random_state=123)"
   ]
  },
  {
   "cell_type": "code",
   "execution_count": 106,
   "id": "d85cb09a",
   "metadata": {},
   "outputs": [
    {
     "data": {
      "text/plain": [
       "RandomForestClassifier(max_depth=10, random_state=123)"
      ]
     },
     "execution_count": 106,
     "metadata": {},
     "output_type": "execute_result"
    }
   ],
   "source": [
    "af.fit(X_train, y_train)"
   ]
  },
  {
   "cell_type": "code",
   "execution_count": 107,
   "id": "f7776c4d",
   "metadata": {},
   "outputs": [
    {
     "name": "stdout",
     "output_type": "stream",
     "text": [
      "[0.16359522 0.08740554 0.15093152 0.04708349 0.02672832 0.18238905\n",
      " 0.01822827 0.28960813 0.01169783 0.02233262]\n"
     ]
    }
   ],
   "source": [
    "#feature importance\n",
    "print(af.feature_importances_)"
   ]
  },
  {
   "cell_type": "code",
   "execution_count": 108,
   "id": "9d90139b",
   "metadata": {},
   "outputs": [
    {
     "data": {
      "text/plain": [
       "Index(['sex_male', 'fare', 'passenger_id', 'age', 'pclass', 'sibsp', 'parch',\n",
       "       'embark_town_Southampton', 'alone', 'embark_town_Queenstown'],\n",
       "      dtype='object')"
      ]
     },
     "execution_count": 108,
     "metadata": {},
     "output_type": "execute_result"
    }
   ],
   "source": [
    "X_train.columns[af.feature_importances_.argsort()[::-1]]"
   ]
  },
  {
   "cell_type": "markdown",
   "id": "d8d1f8b0",
   "metadata": {},
   "source": [
    "Make Predictions "
   ]
  },
  {
   "cell_type": "code",
   "execution_count": 109,
   "id": "b2be56cf",
   "metadata": {},
   "outputs": [],
   "source": [
    "y_pred = af.predict(X_train)"
   ]
  },
  {
   "cell_type": "markdown",
   "id": "0c4a8f06",
   "metadata": {},
   "source": [
    "Estimate Probability"
   ]
  },
  {
   "cell_type": "code",
   "execution_count": 110,
   "id": "54bad6e0",
   "metadata": {},
   "outputs": [],
   "source": [
    "y_pred_proba = af.predict_proba(X_train)"
   ]
  },
  {
   "cell_type": "markdown",
   "id": "b0ed60c4",
   "metadata": {},
   "source": [
    "Compute Accuracy"
   ]
  },
  {
   "cell_type": "markdown",
   "id": "29e57ebe",
   "metadata": {},
   "source": [
    "Model Score "
   ]
  },
  {
   "cell_type": "code",
   "execution_count": 111,
   "id": "a1462642",
   "metadata": {},
   "outputs": [
    {
     "name": "stdout",
     "output_type": "stream",
     "text": [
      "Accuracy of random forest classifier on training set: 0.98\n"
     ]
    }
   ],
   "source": [
    "print('Accuracy of random forest classifier on training set: {:.2f}'\n",
    "     .format(af.score(X_train, y_train)))"
   ]
  },
  {
   "cell_type": "markdown",
   "id": "b0ef1db6",
   "metadata": {},
   "source": [
    "Confusion Matrix "
   ]
  },
  {
   "cell_type": "code",
   "execution_count": 112,
   "id": "97157f6a",
   "metadata": {},
   "outputs": [
    {
     "name": "stdout",
     "output_type": "stream",
     "text": [
      "[[307   0]\n",
      " [ 11 180]]\n"
     ]
    },
    {
     "data": {
      "text/html": [
       "<div>\n",
       "<style scoped>\n",
       "    .dataframe tbody tr th:only-of-type {\n",
       "        vertical-align: middle;\n",
       "    }\n",
       "\n",
       "    .dataframe tbody tr th {\n",
       "        vertical-align: top;\n",
       "    }\n",
       "\n",
       "    .dataframe thead th {\n",
       "        text-align: right;\n",
       "    }\n",
       "</style>\n",
       "<table border=\"1\" class=\"dataframe\">\n",
       "  <thead>\n",
       "    <tr style=\"text-align: right;\">\n",
       "      <th></th>\n",
       "      <th>0</th>\n",
       "      <th>1</th>\n",
       "    </tr>\n",
       "  </thead>\n",
       "  <tbody>\n",
       "    <tr>\n",
       "      <th>0</th>\n",
       "      <td>307</td>\n",
       "      <td>0</td>\n",
       "    </tr>\n",
       "    <tr>\n",
       "      <th>1</th>\n",
       "      <td>11</td>\n",
       "      <td>180</td>\n",
       "    </tr>\n",
       "  </tbody>\n",
       "</table>\n",
       "</div>"
      ],
      "text/plain": [
       "     0    1\n",
       "0  307    0\n",
       "1   11  180"
      ]
     },
     "execution_count": 112,
     "metadata": {},
     "output_type": "execute_result"
    }
   ],
   "source": [
    "print(confusion_matrix(y_train, y_pred))\n",
    "y_train.value_counts()\n",
    "labels = sorted(y_train.unique())\n",
    "\n",
    "pd.DataFrame(confusion_matrix(y_train, y_pred), index=labels, columns=labels)"
   ]
  },
  {
   "cell_type": "markdown",
   "id": "f7a6c2c4",
   "metadata": {},
   "source": [
    "Classification Report"
   ]
  },
  {
   "cell_type": "code",
   "execution_count": 113,
   "id": "6a38d9c2",
   "metadata": {},
   "outputs": [
    {
     "name": "stdout",
     "output_type": "stream",
     "text": [
      "              precision    recall  f1-score   support\n",
      "\n",
      "           0       0.97      1.00      0.98       307\n",
      "           1       1.00      0.94      0.97       191\n",
      "\n",
      "    accuracy                           0.98       498\n",
      "   macro avg       0.98      0.97      0.98       498\n",
      "weighted avg       0.98      0.98      0.98       498\n",
      "\n"
     ]
    }
   ],
   "source": [
    "print(classification_report(y_train, y_pred))"
   ]
  },
  {
   "cell_type": "markdown",
   "id": "ff6c47e5",
   "metadata": {},
   "source": [
    "Validate the Model"
   ]
  },
  {
   "cell_type": "code",
   "execution_count": 114,
   "id": "a9ac95f3",
   "metadata": {},
   "outputs": [
    {
     "name": "stdout",
     "output_type": "stream",
     "text": [
      "Accuracy of random forest classifier on test set: 0.80\n"
     ]
    }
   ],
   "source": [
    "print('Accuracy of random forest classifier on test set: {:.2f}'\n",
    "     .format(af.score(X_validate, y_validate)))"
   ]
  },
  {
   "cell_type": "markdown",
   "id": "9d56fc9b",
   "metadata": {},
   "source": [
    "Metrics: \n",
    "- Accuracy: 0.80 \n",
    "- True Positive Rate: 307/498 \n",
    "- False Positive Rate: 0/498\n",
    "- True Negative Rate: 180/498\n",
    "- False Negative Rate: 11/498 \n",
    "- Precision: {0: 0.97, 1: 1.00} \n",
    "- Recall {0: 1.00, 1: 0.94} \n",
    "- f1-score {0: 0.98, 1: 0.97} \n",
    "- support {0: 307, 1: 191}"
   ]
  },
  {
   "cell_type": "markdown",
   "id": "84f9be64",
   "metadata": {},
   "source": [
    "### Random Forest Titanic: Lather, Rinse, Repeat"
   ]
  },
  {
   "cell_type": "markdown",
   "id": "40b4a882",
   "metadata": {},
   "source": [
    "Run through steps increasing your min_samples_leaf and decreasing your max_depth"
   ]
  },
  {
   "cell_type": "markdown",
   "id": "2d817d81",
   "metadata": {},
   "source": [
    "Create the Object "
   ]
  },
  {
   "cell_type": "code",
   "execution_count": 120,
   "id": "e9e2a989",
   "metadata": {},
   "outputs": [],
   "source": [
    "zf = RandomForestClassifier(bootstrap=True, \n",
    "                            class_weight=None, \n",
    "                            criterion='gini',\n",
    "                            min_samples_leaf=10,\n",
    "                            n_estimators=100,\n",
    "                            max_depth=5, \n",
    "                            random_state=123)"
   ]
  },
  {
   "cell_type": "markdown",
   "id": "28b1f878",
   "metadata": {},
   "source": [
    "Fit your data"
   ]
  },
  {
   "cell_type": "code",
   "execution_count": 121,
   "id": "26d1c148",
   "metadata": {},
   "outputs": [
    {
     "data": {
      "text/plain": [
       "RandomForestClassifier(max_depth=5, min_samples_leaf=10, random_state=123)"
      ]
     },
     "execution_count": 121,
     "metadata": {},
     "output_type": "execute_result"
    }
   ],
   "source": [
    "zf.fit(X_train, y_train)"
   ]
  },
  {
   "cell_type": "markdown",
   "id": "d16a1d48",
   "metadata": {},
   "source": [
    "Examine Feature Importance "
   ]
  },
  {
   "cell_type": "code",
   "execution_count": 122,
   "id": "35cdc12a",
   "metadata": {},
   "outputs": [
    {
     "data": {
      "text/plain": [
       "Index(['sex_male', 'fare', 'pclass', 'passenger_id', 'age', 'sibsp', 'alone',\n",
       "       'embark_town_Southampton', 'parch', 'embark_town_Queenstown'],\n",
       "      dtype='object')"
      ]
     },
     "execution_count": 122,
     "metadata": {},
     "output_type": "execute_result"
    }
   ],
   "source": [
    "X_train.columns[zf.feature_importances_.argsort()[::-1]]"
   ]
  },
  {
   "cell_type": "markdown",
   "id": "56ec1604",
   "metadata": {},
   "source": [
    "Make Predictions "
   ]
  },
  {
   "cell_type": "code",
   "execution_count": 123,
   "id": "8c7f637f",
   "metadata": {},
   "outputs": [],
   "source": [
    "y_pred = zf.predict(X_train)"
   ]
  },
  {
   "cell_type": "markdown",
   "id": "6129d7f2",
   "metadata": {},
   "source": [
    "Estimate Probability "
   ]
  },
  {
   "cell_type": "code",
   "execution_count": 124,
   "id": "60f1565b",
   "metadata": {},
   "outputs": [],
   "source": [
    "y_pred_proba = zf.predict_proba(X_train)"
   ]
  },
  {
   "cell_type": "markdown",
   "id": "dc0d22f0",
   "metadata": {},
   "source": [
    "Compute Accuracy "
   ]
  },
  {
   "cell_type": "code",
   "execution_count": 125,
   "id": "95f3d51c",
   "metadata": {},
   "outputs": [
    {
     "name": "stdout",
     "output_type": "stream",
     "text": [
      "Accuracy of random forest classifier on training set: 0.85\n"
     ]
    }
   ],
   "source": [
    "print('Accuracy of random forest classifier on training set: {:.2f}'\n",
    "     .format(zf.score(X_train, y_train)))"
   ]
  },
  {
   "cell_type": "markdown",
   "id": "1ec8a265",
   "metadata": {},
   "source": [
    "Confusion Matrix"
   ]
  },
  {
   "cell_type": "code",
   "execution_count": 126,
   "id": "914a96a8",
   "metadata": {},
   "outputs": [
    {
     "name": "stdout",
     "output_type": "stream",
     "text": [
      "[[291  16]\n",
      " [ 59 132]]\n"
     ]
    },
    {
     "data": {
      "text/html": [
       "<div>\n",
       "<style scoped>\n",
       "    .dataframe tbody tr th:only-of-type {\n",
       "        vertical-align: middle;\n",
       "    }\n",
       "\n",
       "    .dataframe tbody tr th {\n",
       "        vertical-align: top;\n",
       "    }\n",
       "\n",
       "    .dataframe thead th {\n",
       "        text-align: right;\n",
       "    }\n",
       "</style>\n",
       "<table border=\"1\" class=\"dataframe\">\n",
       "  <thead>\n",
       "    <tr style=\"text-align: right;\">\n",
       "      <th></th>\n",
       "      <th>0</th>\n",
       "      <th>1</th>\n",
       "    </tr>\n",
       "  </thead>\n",
       "  <tbody>\n",
       "    <tr>\n",
       "      <th>0</th>\n",
       "      <td>291</td>\n",
       "      <td>16</td>\n",
       "    </tr>\n",
       "    <tr>\n",
       "      <th>1</th>\n",
       "      <td>59</td>\n",
       "      <td>132</td>\n",
       "    </tr>\n",
       "  </tbody>\n",
       "</table>\n",
       "</div>"
      ],
      "text/plain": [
       "     0    1\n",
       "0  291   16\n",
       "1   59  132"
      ]
     },
     "execution_count": 126,
     "metadata": {},
     "output_type": "execute_result"
    }
   ],
   "source": [
    "print(confusion_matrix(y_train, y_pred))\n",
    "y_train.value_counts()\n",
    "labels = sorted(y_train.unique())\n",
    "\n",
    "pd.DataFrame(confusion_matrix(y_train, y_pred), index=labels, columns=labels)"
   ]
  },
  {
   "cell_type": "markdown",
   "id": "460d3726",
   "metadata": {},
   "source": [
    "Classification Report"
   ]
  },
  {
   "cell_type": "code",
   "execution_count": 127,
   "id": "4674472f",
   "metadata": {},
   "outputs": [
    {
     "name": "stdout",
     "output_type": "stream",
     "text": [
      "              precision    recall  f1-score   support\n",
      "\n",
      "           0       0.83      0.95      0.89       307\n",
      "           1       0.89      0.69      0.78       191\n",
      "\n",
      "    accuracy                           0.85       498\n",
      "   macro avg       0.86      0.82      0.83       498\n",
      "weighted avg       0.85      0.85      0.84       498\n",
      "\n"
     ]
    }
   ],
   "source": [
    "print(classification_report(y_train, y_pred))"
   ]
  },
  {
   "cell_type": "markdown",
   "id": "80542b02",
   "metadata": {},
   "source": [
    "Validate Model"
   ]
  },
  {
   "cell_type": "code",
   "execution_count": 128,
   "id": "320c5003",
   "metadata": {},
   "outputs": [
    {
     "name": "stdout",
     "output_type": "stream",
     "text": [
      "Accuracy of random forest classifier on test set: 0.79\n"
     ]
    }
   ],
   "source": [
    "print('Accuracy of random forest classifier on test set: {:.2f}'\n",
    "     .format(zf.score(X_validate, y_validate)))"
   ]
  },
  {
   "cell_type": "markdown",
   "id": "42af2e35",
   "metadata": {},
   "source": [
    "Metrics: \n",
    "- Accuracy: 0.79\n",
    "- True Positive Rate: 291/498 \n",
    "- False Positive Rate: 16/498\n",
    "- True Negative Rate: 132/498\n",
    "- False Negative Rate: 59/498 \n",
    "- Precision: {0: 0.83, 1: 0.89} \n",
    "- Recall {0: 0.95, 1: 0.69} \n",
    "- f1-score {0: 0.89, 1: 0.78} \n",
    "- support {0: 307, 1: 191}"
   ]
  },
  {
   "cell_type": "markdown",
   "id": "7906a45e",
   "metadata": {},
   "source": [
    "Random Forest Titanic: Lather, Rinse, Repeat"
   ]
  },
  {
   "cell_type": "markdown",
   "id": "a6a38921",
   "metadata": {},
   "source": [
    "Run through steps increasing your min_samples_leaf and decreasing your max_depth. I did 3 for both metrics this round"
   ]
  },
  {
   "cell_type": "code",
   "execution_count": 131,
   "id": "2030c0a5",
   "metadata": {},
   "outputs": [],
   "source": [
    "pf = RandomForestClassifier(bootstrap=True, \n",
    "                            class_weight=None, \n",
    "                            criterion='gini',\n",
    "                            min_samples_leaf=3,\n",
    "                            n_estimators=100,\n",
    "                            max_depth=3, \n",
    "                            random_state=123)"
   ]
  },
  {
   "cell_type": "code",
   "execution_count": 132,
   "id": "98a949d0",
   "metadata": {},
   "outputs": [
    {
     "data": {
      "text/plain": [
       "RandomForestClassifier(max_depth=3, min_samples_leaf=3, random_state=123)"
      ]
     },
     "execution_count": 132,
     "metadata": {},
     "output_type": "execute_result"
    }
   ],
   "source": [
    "pf.fit(X_train, y_train)"
   ]
  },
  {
   "cell_type": "code",
   "execution_count": 133,
   "id": "161c143d",
   "metadata": {},
   "outputs": [
    {
     "data": {
      "text/plain": [
       "Index(['sex_male', 'pclass', 'fare', 'passenger_id', 'age', 'sibsp', 'alone',\n",
       "       'parch', 'embark_town_Queenstown', 'embark_town_Southampton'],\n",
       "      dtype='object')"
      ]
     },
     "execution_count": 133,
     "metadata": {},
     "output_type": "execute_result"
    }
   ],
   "source": [
    "X_train.columns[pf.feature_importances_.argsort()[::-1]]"
   ]
  },
  {
   "cell_type": "code",
   "execution_count": 134,
   "id": "546554a4",
   "metadata": {},
   "outputs": [],
   "source": [
    "y_pred = pf.predict(X_train)"
   ]
  },
  {
   "cell_type": "code",
   "execution_count": 135,
   "id": "8abccdf8",
   "metadata": {},
   "outputs": [],
   "source": [
    "y_pred_proba = pf.predict_proba(X_train)"
   ]
  },
  {
   "cell_type": "code",
   "execution_count": 136,
   "id": "bf37e235",
   "metadata": {},
   "outputs": [
    {
     "name": "stdout",
     "output_type": "stream",
     "text": [
      "Accuracy of random forest classifier on training set: 0.83\n"
     ]
    }
   ],
   "source": [
    "print('Accuracy of random forest classifier on training set: {:.2f}'\n",
    "     .format(pf.score(X_train, y_train)))"
   ]
  },
  {
   "cell_type": "code",
   "execution_count": 137,
   "id": "6eceb286",
   "metadata": {},
   "outputs": [
    {
     "name": "stdout",
     "output_type": "stream",
     "text": [
      "[[285  22]\n",
      " [ 63 128]]\n"
     ]
    },
    {
     "data": {
      "text/html": [
       "<div>\n",
       "<style scoped>\n",
       "    .dataframe tbody tr th:only-of-type {\n",
       "        vertical-align: middle;\n",
       "    }\n",
       "\n",
       "    .dataframe tbody tr th {\n",
       "        vertical-align: top;\n",
       "    }\n",
       "\n",
       "    .dataframe thead th {\n",
       "        text-align: right;\n",
       "    }\n",
       "</style>\n",
       "<table border=\"1\" class=\"dataframe\">\n",
       "  <thead>\n",
       "    <tr style=\"text-align: right;\">\n",
       "      <th></th>\n",
       "      <th>0</th>\n",
       "      <th>1</th>\n",
       "    </tr>\n",
       "  </thead>\n",
       "  <tbody>\n",
       "    <tr>\n",
       "      <th>0</th>\n",
       "      <td>285</td>\n",
       "      <td>22</td>\n",
       "    </tr>\n",
       "    <tr>\n",
       "      <th>1</th>\n",
       "      <td>63</td>\n",
       "      <td>128</td>\n",
       "    </tr>\n",
       "  </tbody>\n",
       "</table>\n",
       "</div>"
      ],
      "text/plain": [
       "     0    1\n",
       "0  285   22\n",
       "1   63  128"
      ]
     },
     "execution_count": 137,
     "metadata": {},
     "output_type": "execute_result"
    }
   ],
   "source": [
    "print(confusion_matrix(y_train, y_pred))\n",
    "y_train.value_counts()\n",
    "labels = sorted(y_train.unique())\n",
    "\n",
    "pd.DataFrame(confusion_matrix(y_train, y_pred), index=labels, columns=labels)"
   ]
  },
  {
   "cell_type": "code",
   "execution_count": 138,
   "id": "9256b97f",
   "metadata": {},
   "outputs": [
    {
     "name": "stdout",
     "output_type": "stream",
     "text": [
      "              precision    recall  f1-score   support\n",
      "\n",
      "           0       0.82      0.93      0.87       307\n",
      "           1       0.85      0.67      0.75       191\n",
      "\n",
      "    accuracy                           0.83       498\n",
      "   macro avg       0.84      0.80      0.81       498\n",
      "weighted avg       0.83      0.83      0.82       498\n",
      "\n"
     ]
    }
   ],
   "source": [
    "print(classification_report(y_train, y_pred))"
   ]
  },
  {
   "cell_type": "code",
   "execution_count": 139,
   "id": "60e3f749",
   "metadata": {},
   "outputs": [
    {
     "name": "stdout",
     "output_type": "stream",
     "text": [
      "Accuracy of random forest classifier on test set: 0.79\n"
     ]
    }
   ],
   "source": [
    "print('Accuracy of random forest classifier on test set: {:.2f}'\n",
    "     .format(pf.score(X_validate, y_validate)))"
   ]
  },
  {
   "cell_type": "markdown",
   "id": "8adcf4c1",
   "metadata": {},
   "source": [
    "Metrics: \n",
    "- Accuracy: 0.79\n",
    "- True Positive Rate: 285/498 \n",
    "- False Positive Rate: 22/498\n",
    "- True Negative Rate: 128/498\n",
    "- False Negative Rate: 63/498 \n",
    "- Precision: {0: 0.82, 1: 0.85} \n",
    "- Recall {0: 0.93, 1: 0.67} \n",
    "- f1-score {0: 0.87, 1: 0.75} \n",
    "- support {0: 307, 1: 191}"
   ]
  },
  {
   "cell_type": "markdown",
   "id": "e21560ed",
   "metadata": {},
   "source": [
    "What conclusions can we draw concerning the min_samples_leaf, and max_depth of random forest. What are our clues that our data is either overfit or underfit? "
   ]
  },
  {
   "cell_type": "markdown",
   "id": "e5c837fc",
   "metadata": {},
   "source": [
    "Answer written here "
   ]
  },
  {
   "cell_type": "markdown",
   "id": "7c5a1040",
   "metadata": {},
   "source": [
    "What are the differences in the evaluation metrics? Which performs better on your in-sample data? Why? "
   ]
  },
  {
   "cell_type": "markdown",
   "id": "3030e23d",
   "metadata": {},
   "source": [
    "The min_leaf 1 with the max_depth 10 performed the best both in the in-sample data and out-of-sample data. "
   ]
  },
  {
   "cell_type": "code",
   "execution_count": null,
   "id": "81f05652",
   "metadata": {},
   "outputs": [],
   "source": []
  },
  {
   "cell_type": "markdown",
   "id": "d422d7db",
   "metadata": {},
   "source": [
    "# K-Nearest Neighbor"
   ]
  },
  {
   "cell_type": "code",
   "execution_count": 144,
   "id": "9d0ebb0b",
   "metadata": {},
   "outputs": [],
   "source": [
    "from sklearn.neighbors import KNeighborsClassifier"
   ]
  },
  {
   "cell_type": "markdown",
   "id": "2594949c",
   "metadata": {},
   "source": [
    "Create the Object "
   ]
  },
  {
   "cell_type": "code",
   "execution_count": 145,
   "id": "c705a73e",
   "metadata": {},
   "outputs": [],
   "source": [
    "knn = KNeighborsClassifier(n_neighbors=5, weights='uniform')"
   ]
  },
  {
   "cell_type": "markdown",
   "id": "f3530911",
   "metadata": {},
   "source": [
    "Fit the Model "
   ]
  },
  {
   "cell_type": "code",
   "execution_count": 146,
   "id": "6b3ab0fa",
   "metadata": {},
   "outputs": [
    {
     "data": {
      "text/plain": [
       "KNeighborsClassifier()"
      ]
     },
     "execution_count": 146,
     "metadata": {},
     "output_type": "execute_result"
    }
   ],
   "source": [
    "knn.fit(X_train, y_train)"
   ]
  },
  {
   "cell_type": "markdown",
   "id": "9f495143",
   "metadata": {},
   "source": [
    "Make Predictions"
   ]
  },
  {
   "cell_type": "code",
   "execution_count": 147,
   "id": "3fe26db3",
   "metadata": {},
   "outputs": [],
   "source": [
    "y_pred = knn.predict(X_train)"
   ]
  },
  {
   "cell_type": "markdown",
   "id": "995d0ae8",
   "metadata": {},
   "source": [
    "Estimate Probability "
   ]
  },
  {
   "cell_type": "code",
   "execution_count": 148,
   "id": "3a123be6",
   "metadata": {},
   "outputs": [],
   "source": [
    "y_pred_proba = knn.predict_proba(X_train)"
   ]
  },
  {
   "cell_type": "markdown",
   "id": "368d1952",
   "metadata": {},
   "source": [
    "Compute the Accuracy "
   ]
  },
  {
   "cell_type": "code",
   "execution_count": 149,
   "id": "c67e0669",
   "metadata": {},
   "outputs": [
    {
     "name": "stdout",
     "output_type": "stream",
     "text": [
      "Accuracy of KNN classifier on training set: 0.74\n"
     ]
    }
   ],
   "source": [
    "print('Accuracy of KNN classifier on training set: {:.2f}'.format(knn.score(X_train, y_train)))"
   ]
  },
  {
   "cell_type": "markdown",
   "id": "08c4165f",
   "metadata": {},
   "source": [
    "Create a Confusion Matrix "
   ]
  },
  {
   "cell_type": "code",
   "execution_count": 150,
   "id": "9f52bb96",
   "metadata": {},
   "outputs": [
    {
     "name": "stdout",
     "output_type": "stream",
     "text": [
      "[[266  41]\n",
      " [ 87 104]]\n"
     ]
    }
   ],
   "source": [
    "print(confusion_matrix(y_train, y_pred))"
   ]
  },
  {
   "cell_type": "markdown",
   "id": "f1d4b676",
   "metadata": {},
   "source": [
    "Create a classification report "
   ]
  },
  {
   "cell_type": "code",
   "execution_count": 151,
   "id": "47718589",
   "metadata": {},
   "outputs": [
    {
     "name": "stdout",
     "output_type": "stream",
     "text": [
      "              precision    recall  f1-score   support\n",
      "\n",
      "           0       0.75      0.87      0.81       307\n",
      "           1       0.72      0.54      0.62       191\n",
      "\n",
      "    accuracy                           0.74       498\n",
      "   macro avg       0.74      0.71      0.71       498\n",
      "weighted avg       0.74      0.74      0.73       498\n",
      "\n"
     ]
    }
   ],
   "source": [
    "print(classification_report(y_train, y_pred))"
   ]
  },
  {
   "cell_type": "code",
   "execution_count": 152,
   "id": "a66af5e1",
   "metadata": {},
   "outputs": [
    {
     "name": "stdout",
     "output_type": "stream",
     "text": [
      "Accuracy of KNN classifier on training set: 0.61\n"
     ]
    }
   ],
   "source": [
    "print('Accuracy of KNN classifier on training set: {:.2f}'.format(knn.score(X_validate, y_validate)))"
   ]
  },
  {
   "cell_type": "markdown",
   "id": "f8e1f38e",
   "metadata": {},
   "source": [
    "Metrics: \n",
    "- Accuracy: 0.61\n",
    "- True Positive Rate: 266/498 \n",
    "- False Positive Rate: 41/498\n",
    "- True Negative Rate: 104/498\n",
    "- False Negative Rate: 87/498 \n",
    "- Precision: {0: 0.75, 1: 0.72} \n",
    "- Recall {0: 0.87, 1: 0.54} \n",
    "- f1-score {0: 0.81, 1: 0.62} \n",
    "- support {0: 307, 1: 191}"
   ]
  },
  {
   "cell_type": "markdown",
   "id": "5a68f757",
   "metadata": {},
   "source": [
    "### K-Nearest Neighbor increase k to 10 "
   ]
  },
  {
   "cell_type": "code",
   "execution_count": 155,
   "id": "9366b666",
   "metadata": {},
   "outputs": [],
   "source": [
    "knn = KNeighborsClassifier(n_neighbors=10, weights='uniform')"
   ]
  },
  {
   "cell_type": "code",
   "execution_count": 156,
   "id": "e4bf9ada",
   "metadata": {},
   "outputs": [
    {
     "data": {
      "text/plain": [
       "KNeighborsClassifier(n_neighbors=10)"
      ]
     },
     "execution_count": 156,
     "metadata": {},
     "output_type": "execute_result"
    }
   ],
   "source": [
    "knn.fit(X_train, y_train)"
   ]
  },
  {
   "cell_type": "code",
   "execution_count": 157,
   "id": "2ea6eeb2",
   "metadata": {},
   "outputs": [],
   "source": [
    "y_pred = knn.predict(X_train)"
   ]
  },
  {
   "cell_type": "code",
   "execution_count": 158,
   "id": "a392b75b",
   "metadata": {},
   "outputs": [],
   "source": [
    "y_pred_proba = knn.predict_proba(X_train)"
   ]
  },
  {
   "cell_type": "code",
   "execution_count": 159,
   "id": "b47b128a",
   "metadata": {},
   "outputs": [
    {
     "name": "stdout",
     "output_type": "stream",
     "text": [
      "Accuracy of KNN classifier on training set: 0.70\n"
     ]
    }
   ],
   "source": [
    "print('Accuracy of KNN classifier on training set: {:.2f}'.format(knn.score(X_train, y_train)))"
   ]
  },
  {
   "cell_type": "code",
   "execution_count": 160,
   "id": "af8b43e2",
   "metadata": {},
   "outputs": [
    {
     "name": "stdout",
     "output_type": "stream",
     "text": [
      "[[284  23]\n",
      " [128  63]]\n"
     ]
    }
   ],
   "source": [
    "print(confusion_matrix(y_train, y_pred))"
   ]
  },
  {
   "cell_type": "code",
   "execution_count": 161,
   "id": "16a830ca",
   "metadata": {},
   "outputs": [
    {
     "name": "stdout",
     "output_type": "stream",
     "text": [
      "              precision    recall  f1-score   support\n",
      "\n",
      "           0       0.69      0.93      0.79       307\n",
      "           1       0.73      0.33      0.45       191\n",
      "\n",
      "    accuracy                           0.70       498\n",
      "   macro avg       0.71      0.63      0.62       498\n",
      "weighted avg       0.71      0.70      0.66       498\n",
      "\n"
     ]
    }
   ],
   "source": [
    "print(classification_report(y_train, y_pred))"
   ]
  },
  {
   "cell_type": "code",
   "execution_count": 162,
   "id": "c3356998",
   "metadata": {},
   "outputs": [
    {
     "name": "stdout",
     "output_type": "stream",
     "text": [
      "Accuracy of KNN classifier on training set: 0.62\n"
     ]
    }
   ],
   "source": [
    "print('Accuracy of KNN classifier on training set: {:.2f}'.format(knn.score(X_validate, y_validate)))"
   ]
  },
  {
   "cell_type": "markdown",
   "id": "c6a081af",
   "metadata": {},
   "source": [
    "Metrics: \n",
    "- Accuracy: 0.62\n",
    "- True Positive Rate: 284/498 \n",
    "- False Positive Rate: 23/498\n",
    "- True Negative Rate: 63/498\n",
    "- False Negative Rate: 128/498 \n",
    "- Precision: {0: 0.69, 1: 0.73} \n",
    "- Recall {0: 0.93, 1: 0.33} \n",
    "- f1-score {0: 0.79, 1: 0.45} \n",
    "- support {0: 307, 1: 191}"
   ]
  },
  {
   "cell_type": "markdown",
   "id": "8a347269",
   "metadata": {},
   "source": [
    "When the K was increased to ten, there was a significant jump in the amount of false negatives the model produced "
   ]
  },
  {
   "cell_type": "markdown",
   "id": "cedbd7a6",
   "metadata": {},
   "source": [
    "### K-Nearest Neighbor increase k to 20"
   ]
  },
  {
   "cell_type": "code",
   "execution_count": 164,
   "id": "472474ab",
   "metadata": {},
   "outputs": [],
   "source": [
    "knn = KNeighborsClassifier(n_neighbors=20, weights='uniform')"
   ]
  },
  {
   "cell_type": "code",
   "execution_count": 165,
   "id": "318268e8",
   "metadata": {},
   "outputs": [
    {
     "data": {
      "text/plain": [
       "KNeighborsClassifier(n_neighbors=20)"
      ]
     },
     "execution_count": 165,
     "metadata": {},
     "output_type": "execute_result"
    }
   ],
   "source": [
    "knn.fit(X_train, y_train)"
   ]
  },
  {
   "cell_type": "code",
   "execution_count": 166,
   "id": "02a87e96",
   "metadata": {},
   "outputs": [],
   "source": [
    "y_pred = knn.predict(X_train)"
   ]
  },
  {
   "cell_type": "code",
   "execution_count": 167,
   "id": "e6907f7f",
   "metadata": {},
   "outputs": [],
   "source": [
    "y_pred_proba = knn.predict_proba(X_train)"
   ]
  },
  {
   "cell_type": "code",
   "execution_count": 168,
   "id": "b10369b2",
   "metadata": {},
   "outputs": [
    {
     "name": "stdout",
     "output_type": "stream",
     "text": [
      "Accuracy of KNN classifier on training set: 0.67\n"
     ]
    }
   ],
   "source": [
    "print('Accuracy of KNN classifier on training set: {:.2f}'.format(knn.score(X_train, y_train)))"
   ]
  },
  {
   "cell_type": "code",
   "execution_count": 169,
   "id": "db085e6a",
   "metadata": {},
   "outputs": [
    {
     "name": "stdout",
     "output_type": "stream",
     "text": [
      "[[288  19]\n",
      " [147  44]]\n"
     ]
    }
   ],
   "source": [
    "print(confusion_matrix(y_train, y_pred))"
   ]
  },
  {
   "cell_type": "code",
   "execution_count": 170,
   "id": "7537af26",
   "metadata": {},
   "outputs": [
    {
     "name": "stdout",
     "output_type": "stream",
     "text": [
      "              precision    recall  f1-score   support\n",
      "\n",
      "           0       0.66      0.94      0.78       307\n",
      "           1       0.70      0.23      0.35       191\n",
      "\n",
      "    accuracy                           0.67       498\n",
      "   macro avg       0.68      0.58      0.56       498\n",
      "weighted avg       0.68      0.67      0.61       498\n",
      "\n"
     ]
    }
   ],
   "source": [
    "print(classification_report(y_train, y_pred))"
   ]
  },
  {
   "cell_type": "code",
   "execution_count": 171,
   "id": "082ab2cd",
   "metadata": {},
   "outputs": [
    {
     "name": "stdout",
     "output_type": "stream",
     "text": [
      "Accuracy of KNN classifier on training set: 0.65\n"
     ]
    }
   ],
   "source": [
    "print('Accuracy of KNN classifier on training set: {:.2f}'.format(knn.score(X_validate, y_validate)))"
   ]
  },
  {
   "cell_type": "markdown",
   "id": "3abff1cb",
   "metadata": {},
   "source": [
    "Metrics: \n",
    "- Accuracy: 0.65\n",
    "- True Positive Rate: 288/498 \n",
    "- False Positive Rate: 19/498\n",
    "- True Negative Rate: 44/498\n",
    "- False Negative Rate: 147/498 \n",
    "- Precision: {0: 0.66, 1: 0.70} \n",
    "- Recall {0: 0.94, 1: 0.23} \n",
    "- f1-score {0: 0.78, 1: 0.35} \n",
    "- support {0: 307, 1: 191}"
   ]
  },
  {
   "cell_type": "markdown",
   "id": "bbacce89",
   "metadata": {},
   "source": [
    "The accuracy increased from 10 to 20, but the number of false negatives also increased! "
   ]
  },
  {
   "cell_type": "markdown",
   "id": "b860d413",
   "metadata": {},
   "source": [
    "What are the differences in the evaluation metrics? Which performs better on your in-sample data? Why?"
   ]
  },
  {
   "cell_type": "markdown",
   "id": "0c1c70e8",
   "metadata": {},
   "source": []
  },
  {
   "cell_type": "markdown",
   "id": "030858a8",
   "metadata": {},
   "source": [
    "Which model performs best on our out-of-sample data from validate?"
   ]
  },
  {
   "cell_type": "markdown",
   "id": "8fc45f23",
   "metadata": {},
   "source": [
    "### Logistic Regression"
   ]
  },
  {
   "cell_type": "markdown",
   "id": "e5f5ff74",
   "metadata": {},
   "source": [
    "\"Useful for understanding the influence of several independent variables on a single outcome variable.\""
   ]
  },
  {
   "cell_type": "code",
   "execution_count": 1,
   "id": "4ecaa22b",
   "metadata": {},
   "outputs": [
    {
     "data": {
      "text/html": [
       "<div>\n",
       "<style scoped>\n",
       "    .dataframe tbody tr th:only-of-type {\n",
       "        vertical-align: middle;\n",
       "    }\n",
       "\n",
       "    .dataframe tbody tr th {\n",
       "        vertical-align: top;\n",
       "    }\n",
       "\n",
       "    .dataframe thead th {\n",
       "        text-align: right;\n",
       "    }\n",
       "</style>\n",
       "<table border=\"1\" class=\"dataframe\">\n",
       "  <thead>\n",
       "    <tr style=\"text-align: right;\">\n",
       "      <th></th>\n",
       "      <th>sepal_length</th>\n",
       "      <th>sepal_width</th>\n",
       "      <th>petal_length</th>\n",
       "      <th>petal_width</th>\n",
       "      <th>versicolor</th>\n",
       "      <th>virginica</th>\n",
       "    </tr>\n",
       "  </thead>\n",
       "  <tbody>\n",
       "    <tr>\n",
       "      <th>1</th>\n",
       "      <td>5.1</td>\n",
       "      <td>3.5</td>\n",
       "      <td>1.4</td>\n",
       "      <td>0.2</td>\n",
       "      <td>0</td>\n",
       "      <td>0</td>\n",
       "    </tr>\n",
       "    <tr>\n",
       "      <th>2</th>\n",
       "      <td>4.9</td>\n",
       "      <td>3.0</td>\n",
       "      <td>1.4</td>\n",
       "      <td>0.2</td>\n",
       "      <td>0</td>\n",
       "      <td>0</td>\n",
       "    </tr>\n",
       "    <tr>\n",
       "      <th>3</th>\n",
       "      <td>4.7</td>\n",
       "      <td>3.2</td>\n",
       "      <td>1.3</td>\n",
       "      <td>0.2</td>\n",
       "      <td>0</td>\n",
       "      <td>0</td>\n",
       "    </tr>\n",
       "    <tr>\n",
       "      <th>4</th>\n",
       "      <td>4.6</td>\n",
       "      <td>3.1</td>\n",
       "      <td>1.5</td>\n",
       "      <td>0.2</td>\n",
       "      <td>0</td>\n",
       "      <td>0</td>\n",
       "    </tr>\n",
       "    <tr>\n",
       "      <th>5</th>\n",
       "      <td>5.0</td>\n",
       "      <td>3.6</td>\n",
       "      <td>1.4</td>\n",
       "      <td>0.2</td>\n",
       "      <td>0</td>\n",
       "      <td>0</td>\n",
       "    </tr>\n",
       "  </tbody>\n",
       "</table>\n",
       "</div>"
      ],
      "text/plain": [
       "   sepal_length  sepal_width  petal_length  petal_width  versicolor  virginica\n",
       "1           5.1          3.5           1.4          0.2           0          0\n",
       "2           4.9          3.0           1.4          0.2           0          0\n",
       "3           4.7          3.2           1.3          0.2           0          0\n",
       "4           4.6          3.1           1.5          0.2           0          0\n",
       "5           5.0          3.6           1.4          0.2           0          0"
      ]
     },
     "execution_count": 1,
     "metadata": {},
     "output_type": "execute_result"
    }
   ],
   "source": [
    "import numpy as np\n",
    "import pandas as pd\n",
    "\n",
    "from sklearn.model_selection import train_test_split\n",
    "from sklearn.linear_model import LogisticRegression\n",
    "from sklearn.metrics import classification_report\n",
    "from sklearn.metrics import confusion_matrix\n",
    "\n",
    "# ignore warnings\n",
    "import warnings\n",
    "warnings.filterwarnings(\"ignore\")\n",
    "\n",
    "%matplotlib inline\n",
    "import matplotlib.pyplot as plt\n",
    "import seaborn as sns\n",
    "\n",
    "from pydataset import data\n",
    "\n",
    "# read Iris data from pydatset\n",
    "df = data('iris')\n",
    "\n",
    "# convert column names to lowercase, replace '.' in column names with '_'\n",
    "df.columns = [col.lower().replace('.', '_') for col in df]\n",
    "\n",
    "# we will have 2 different target variables \n",
    "dummies = pd.get_dummies(df['species'], drop_first=True)\n",
    "\n",
    "df = pd.concat([df, dummies], axis=1).drop(columns=['species'])\n",
    "df.head()"
   ]
  },
  {
   "cell_type": "markdown",
   "id": "44921fe4",
   "metadata": {},
   "source": [
    "Next Steps: \n",
    "- train/validate/test split: "
   ]
  },
  {
   "cell_type": "code",
   "execution_count": 2,
   "id": "2cfac4a3",
   "metadata": {},
   "outputs": [],
   "source": [
    "from sklearn.model_selection import train_test_split\n",
    "\n",
    "def train_validate_test_split(df, target, seed=123):\n",
    "    '''\n",
    "    This function takes in a dataframe, the name of the target variable\n",
    "    (for stratification purposes), and an integer for a setting a seed\n",
    "    and splits the data into train, validate and test. \n",
    "    Test is 20% of the original dataset, validate is .30*.80= 24% of the \n",
    "    original dataset, and train is .70*.80= 56% of the original dataset. \n",
    "    The function returns, in this order, train, validate and test dataframes. \n",
    "    '''\n",
    "    train_validate, test = train_test_split(df, test_size=0.2, \n",
    "                                            random_state=seed, \n",
    "                                            stratify=df[target])\n",
    "    train, validate = train_test_split(train_validate, test_size=0.3, \n",
    "                                       random_state=seed,\n",
    "                                       stratify=train_validate[target])\n",
    "    return train, validate, test"
   ]
  },
  {
   "cell_type": "markdown",
   "id": "0340f2ea",
   "metadata": {},
   "source": [
    "Next Steps: \n",
    "- Predict Versicolor \n",
    "- do exploration and train our model on train data \n",
    "- tune our model on validate"
   ]
  },
  {
   "cell_type": "code",
   "execution_count": 3,
   "id": "7af719c0",
   "metadata": {},
   "outputs": [],
   "source": [
    "# split into train, validate, test\n",
    "train, validate, test = train_validate_test_split(df, target='versicolor', seed=123)\n",
    "\n",
    "# create X & y version of train, where y is a series with just the target variable and X are all the features. \n",
    "\n",
    "X_train = train.drop(columns=['versicolor','virginica'])\n",
    "y_train = train.versicolor\n",
    "\n",
    "X_validate = validate.drop(columns=['versicolor','virginica'])\n",
    "y_validate = validate.versicolor\n",
    "\n",
    "X_test = test.drop(columns=['versicolor','virginica'])\n",
    "y_test = test.versicolor"
   ]
  },
  {
   "cell_type": "code",
   "execution_count": 13,
   "id": "ae0dec76",
   "metadata": {},
   "outputs": [
    {
     "data": {
      "text/html": [
       "<div>\n",
       "<style scoped>\n",
       "    .dataframe tbody tr th:only-of-type {\n",
       "        vertical-align: middle;\n",
       "    }\n",
       "\n",
       "    .dataframe tbody tr th {\n",
       "        vertical-align: top;\n",
       "    }\n",
       "\n",
       "    .dataframe thead th {\n",
       "        text-align: right;\n",
       "    }\n",
       "</style>\n",
       "<table border=\"1\" class=\"dataframe\">\n",
       "  <thead>\n",
       "    <tr style=\"text-align: right;\">\n",
       "      <th></th>\n",
       "      <th>sepal_length</th>\n",
       "      <th>sepal_width</th>\n",
       "      <th>petal_length</th>\n",
       "      <th>petal_width</th>\n",
       "    </tr>\n",
       "  </thead>\n",
       "  <tbody>\n",
       "    <tr>\n",
       "      <th>97</th>\n",
       "      <td>5.7</td>\n",
       "      <td>2.9</td>\n",
       "      <td>4.2</td>\n",
       "      <td>1.3</td>\n",
       "    </tr>\n",
       "    <tr>\n",
       "      <th>125</th>\n",
       "      <td>6.7</td>\n",
       "      <td>3.3</td>\n",
       "      <td>5.7</td>\n",
       "      <td>2.1</td>\n",
       "    </tr>\n",
       "    <tr>\n",
       "      <th>87</th>\n",
       "      <td>6.7</td>\n",
       "      <td>3.1</td>\n",
       "      <td>4.7</td>\n",
       "      <td>1.5</td>\n",
       "    </tr>\n",
       "  </tbody>\n",
       "</table>\n",
       "</div>"
      ],
      "text/plain": [
       "     sepal_length  sepal_width  petal_length  petal_width\n",
       "97            5.7          2.9           4.2          1.3\n",
       "125           6.7          3.3           5.7          2.1\n",
       "87            6.7          3.1           4.7          1.5"
      ]
     },
     "execution_count": 13,
     "metadata": {},
     "output_type": "execute_result"
    }
   ],
   "source": [
    "X_train.head(3)"
   ]
  },
  {
   "cell_type": "markdown",
   "id": "444e8a87",
   "metadata": {},
   "source": [
    "### Model 1: Set solver to ibfgs"
   ]
  },
  {
   "cell_type": "markdown",
   "id": "5492f125",
   "metadata": {},
   "source": [
    "Create the object "
   ]
  },
  {
   "cell_type": "code",
   "execution_count": 4,
   "id": "efd9852f",
   "metadata": {},
   "outputs": [],
   "source": [
    "logit = LogisticRegression(C=1, class_weight={0:1, 1:99}, random_state=123, intercept_scaling=1, solver='lbfgs')\n"
   ]
  },
  {
   "cell_type": "markdown",
   "id": "14223749",
   "metadata": {},
   "source": [
    "Fit the Model "
   ]
  },
  {
   "cell_type": "code",
   "execution_count": 5,
   "id": "ef9eb284",
   "metadata": {},
   "outputs": [
    {
     "data": {
      "text/plain": [
       "LogisticRegression(C=1, class_weight={0: 1, 1: 99}, random_state=123)"
      ]
     },
     "execution_count": 5,
     "metadata": {},
     "output_type": "execute_result"
    }
   ],
   "source": [
    "logit.fit(X_train, y_train)\n"
   ]
  },
  {
   "cell_type": "markdown",
   "id": "b6d84f4a",
   "metadata": {},
   "source": [
    "Feature Importance"
   ]
  },
  {
   "cell_type": "code",
   "execution_count": 7,
   "id": "3ad7a7f6",
   "metadata": {},
   "outputs": [
    {
     "name": "stdout",
     "output_type": "stream",
     "text": [
      "Coefficient: \n",
      " [[-0.45745489 -4.33000304  2.00440881 -2.79033335]]\n",
      "Intercept: \n",
      " [14.54733857]\n"
     ]
    }
   ],
   "source": [
    "print('Coefficient: \\n', logit.coef_)\n",
    "print('Intercept: \\n', logit.intercept_)"
   ]
  },
  {
   "cell_type": "markdown",
   "id": "758fb64c",
   "metadata": {},
   "source": [
    "Make Predictions"
   ]
  },
  {
   "cell_type": "code",
   "execution_count": 8,
   "id": "8d4f6eee",
   "metadata": {},
   "outputs": [],
   "source": [
    "y_pred = logit.predict(X_train)"
   ]
  },
  {
   "cell_type": "markdown",
   "id": "7cb18ce9",
   "metadata": {},
   "source": [
    "Estimate Probability"
   ]
  },
  {
   "cell_type": "code",
   "execution_count": 9,
   "id": "33dfadab",
   "metadata": {},
   "outputs": [],
   "source": [
    "y_pred_proba = logit.predict_proba(X_train)"
   ]
  },
  {
   "cell_type": "markdown",
   "id": "c5fc1581",
   "metadata": {},
   "source": [
    "### Evaluate Model"
   ]
  },
  {
   "cell_type": "markdown",
   "id": "5a2da0f9",
   "metadata": {},
   "source": [
    "Compute the Accuracy"
   ]
  },
  {
   "cell_type": "code",
   "execution_count": 10,
   "id": "d42236fb",
   "metadata": {},
   "outputs": [
    {
     "name": "stdout",
     "output_type": "stream",
     "text": [
      "Accuracy of Logistic Regression classifier on training set: 0.55\n"
     ]
    }
   ],
   "source": [
    "print('Accuracy of Logistic Regression classifier on training set: {:.2f}'\n",
    "     .format(logit.score(X_train, y_train)))"
   ]
  },
  {
   "cell_type": "markdown",
   "id": "0e71f6df",
   "metadata": {},
   "source": [
    "Create a Confusion Matrix "
   ]
  },
  {
   "cell_type": "code",
   "execution_count": 11,
   "id": "51238812",
   "metadata": {},
   "outputs": [
    {
     "name": "stdout",
     "output_type": "stream",
     "text": [
      "[[18 38]\n",
      " [ 0 28]]\n"
     ]
    }
   ],
   "source": [
    "print(confusion_matrix(y_train, y_pred))"
   ]
  },
  {
   "cell_type": "markdown",
   "id": "7530c1cd",
   "metadata": {},
   "source": [
    "Create a classification report "
   ]
  },
  {
   "cell_type": "code",
   "execution_count": 12,
   "id": "efb8c71d",
   "metadata": {},
   "outputs": [
    {
     "name": "stdout",
     "output_type": "stream",
     "text": [
      "              precision    recall  f1-score   support\n",
      "\n",
      "           0       1.00      0.32      0.49        56\n",
      "           1       0.42      1.00      0.60        28\n",
      "\n",
      "    accuracy                           0.55        84\n",
      "   macro avg       0.71      0.66      0.54        84\n",
      "weighted avg       0.81      0.55      0.52        84\n",
      "\n"
     ]
    }
   ],
   "source": [
    "print(classification_report(y_train, y_pred))"
   ]
  },
  {
   "cell_type": "code",
   "execution_count": null,
   "id": "40673d79",
   "metadata": {},
   "outputs": [],
   "source": [
    "Metrics: \n",
    "- Precision "
   ]
  },
  {
   "cell_type": "markdown",
   "id": "963eea05",
   "metadata": {},
   "source": [
    "### Model 2"
   ]
  },
  {
   "cell_type": "markdown",
   "id": "a3263983",
   "metadata": {},
   "source": [
    "We can create new models by changing features we feed the algorithm, hyperparameters, and/or the alogrithm itself. For this second model, we will adjust our hyperparameter, C."
   ]
  },
  {
   "cell_type": "markdown",
   "id": "339e62dd",
   "metadata": {},
   "source": [
    "Create the object"
   ]
  },
  {
   "cell_type": "code",
   "execution_count": 14,
   "id": "290739b3",
   "metadata": {},
   "outputs": [],
   "source": [
    "logit2 = LogisticRegression(C=.1, class_weight={0:1, 1:99}, random_state=123, intercept_scaling=1, solver='lbfgs')\n"
   ]
  },
  {
   "cell_type": "markdown",
   "id": "ae9f0f60",
   "metadata": {},
   "source": [
    "Fit the Model "
   ]
  },
  {
   "cell_type": "code",
   "execution_count": 15,
   "id": "1016a841",
   "metadata": {},
   "outputs": [
    {
     "data": {
      "text/plain": [
       "LogisticRegression(C=0.1, class_weight={0: 1, 1: 99}, random_state=123)"
      ]
     },
     "execution_count": 15,
     "metadata": {},
     "output_type": "execute_result"
    }
   ],
   "source": [
    "logit2.fit(X_train, y_train)\n"
   ]
  },
  {
   "cell_type": "markdown",
   "id": "5df3f645",
   "metadata": {},
   "source": [
    "Feature Importance"
   ]
  },
  {
   "cell_type": "code",
   "execution_count": 16,
   "id": "876e5187",
   "metadata": {},
   "outputs": [
    {
     "name": "stdout",
     "output_type": "stream",
     "text": [
      "Coefficient: \n",
      " [[-0.20880009 -1.67727952  1.00954681 -0.25663236]]\n",
      "Intercept: \n",
      " [6.02992374]\n"
     ]
    }
   ],
   "source": [
    "print('Coefficient: \\n', logit2.coef_)\n",
    "print('Intercept: \\n', logit2.intercept_)"
   ]
  },
  {
   "cell_type": "markdown",
   "id": "1b636011",
   "metadata": {},
   "source": [
    "Make Predictions"
   ]
  },
  {
   "cell_type": "code",
   "execution_count": 17,
   "id": "cdd9bcbf",
   "metadata": {},
   "outputs": [],
   "source": [
    "y_pred2 = logit2.predict(X_train)"
   ]
  },
  {
   "cell_type": "markdown",
   "id": "68ca7778",
   "metadata": {},
   "source": [
    "Estimate Probability"
   ]
  },
  {
   "cell_type": "code",
   "execution_count": 18,
   "id": "99319dc9",
   "metadata": {},
   "outputs": [],
   "source": [
    "y_pred_proba2 = logit2.predict_proba(X_train)"
   ]
  },
  {
   "cell_type": "markdown",
   "id": "37e2ef26",
   "metadata": {},
   "source": [
    "Evaluate Model"
   ]
  },
  {
   "cell_type": "markdown",
   "id": "75dc1701",
   "metadata": {},
   "source": [
    "Compute the Accuracy"
   ]
  },
  {
   "cell_type": "code",
   "execution_count": 19,
   "id": "83fa9562",
   "metadata": {},
   "outputs": [
    {
     "name": "stdout",
     "output_type": "stream",
     "text": [
      "Accuracy of Logistic Regression classifier on training set: 0.40\n"
     ]
    }
   ],
   "source": [
    "print('Accuracy of Logistic Regression classifier on training set: {:.2f}'\n",
    "     .format(logit2.score(X_train, y_train)))"
   ]
  },
  {
   "cell_type": "markdown",
   "id": "652ed1b1",
   "metadata": {},
   "source": [
    "Create a Confusion Matrix"
   ]
  },
  {
   "cell_type": "code",
   "execution_count": 20,
   "id": "92d76ebd",
   "metadata": {},
   "outputs": [
    {
     "name": "stdout",
     "output_type": "stream",
     "text": [
      "[[ 6 50]\n",
      " [ 0 28]]\n"
     ]
    }
   ],
   "source": [
    "print(confusion_matrix(y_train, y_pred2))"
   ]
  },
  {
   "cell_type": "markdown",
   "id": "556fde63",
   "metadata": {},
   "source": [
    "Create a classification report"
   ]
  },
  {
   "cell_type": "code",
   "execution_count": 21,
   "id": "ee807623",
   "metadata": {},
   "outputs": [
    {
     "name": "stdout",
     "output_type": "stream",
     "text": [
      "              precision    recall  f1-score   support\n",
      "\n",
      "           0       1.00      0.11      0.19        56\n",
      "           1       0.36      1.00      0.53        28\n",
      "\n",
      "    accuracy                           0.40        84\n",
      "   macro avg       0.68      0.55      0.36        84\n",
      "weighted avg       0.79      0.40      0.31        84\n",
      "\n"
     ]
    }
   ],
   "source": [
    "print(classification_report(y_train, y_pred2))"
   ]
  },
  {
   "cell_type": "code",
   "execution_count": null,
   "id": "d8f9b381",
   "metadata": {},
   "outputs": [],
   "source": []
  },
  {
   "cell_type": "code",
   "execution_count": null,
   "id": "681d480f",
   "metadata": {},
   "outputs": [],
   "source": []
  },
  {
   "cell_type": "code",
   "execution_count": null,
   "id": "58e1dfcf",
   "metadata": {},
   "outputs": [],
   "source": []
  },
  {
   "cell_type": "code",
   "execution_count": null,
   "id": "610ce074",
   "metadata": {},
   "outputs": [],
   "source": []
  },
  {
   "cell_type": "code",
   "execution_count": null,
   "id": "3a865653",
   "metadata": {},
   "outputs": [],
   "source": []
  },
  {
   "cell_type": "code",
   "execution_count": null,
   "id": "11a522eb",
   "metadata": {},
   "outputs": [],
   "source": []
  }
 ],
 "metadata": {
  "kernelspec": {
   "display_name": "Python 3 (ipykernel)",
   "language": "python",
   "name": "python3"
  },
  "language_info": {
   "codemirror_mode": {
    "name": "ipython",
    "version": 3
   },
   "file_extension": ".py",
   "mimetype": "text/x-python",
   "name": "python",
   "nbconvert_exporter": "python",
   "pygments_lexer": "ipython3",
   "version": "3.9.7"
  }
 },
 "nbformat": 4,
 "nbformat_minor": 5
}
